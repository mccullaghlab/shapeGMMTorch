{
 "cells": [
  {
   "cell_type": "markdown",
   "metadata": {},
   "source": [
    "# Align the Beaded Helix using shapeGMMTorch libraries"
   ]
  },
  {
   "cell_type": "markdown",
   "metadata": {},
   "source": [
    "In this notebook I will demonstrate how to perform a single maximum likelihood alignment of a trajectory using the shapeGMMTorch libraries.  I will do this for both uniform and kronecker covariance models.\n",
    "\n",
    "I will use MDAnalysis to read the trajectory but anyways of reading a trajectory and generating a `(n_frames, n_atoms, 3)` array is fine."
   ]
  },
  {
   "cell_type": "markdown",
   "metadata": {},
   "source": [
    "## Import Libraries"
   ]
  },
  {
   "cell_type": "code",
   "execution_count": 6,
   "metadata": {},
   "outputs": [],
   "source": [
    "import sys\n",
    "import numpy as np\n",
    "# we will use MDAnalysis to read trajectory\n",
    "import MDAnalysis as md\n",
    "# the alignment routines are contained in torch_align\n",
    "from shapeGMMTorch import torch_align\n",
    "# we will also need to load pytorch to prepare the data\n",
    "import torch"
   ]
  },
  {
   "cell_type": "markdown",
   "metadata": {},
   "source": [
    "## Read trajectory"
   ]
  },
  {
   "cell_type": "code",
   "execution_count": 20,
   "metadata": {},
   "outputs": [
    {
     "name": "stderr",
     "output_type": "stream",
     "text": [
      "/Users/mmccull/opt/anaconda3/envs/nomkl/lib/python3.10/site-packages/MDAnalysis/topology/PDBParser.py:317: UserWarning: Element information is missing, elements attribute will not be populated. If needed these can be guessed using MDAnalysis.topology.guessers.\n",
      "  warnings.warn(\"Element information is missing, elements attribute \"\n",
      "/Users/mmccull/opt/anaconda3/envs/nomkl/lib/python3.10/site-packages/MDAnalysis/topology/guessers.py:146: UserWarning: Failed to guess the mass for the following atom types: 1\n",
      "  warnings.warn(\"Failed to guess the mass for the following atom types: {}\".format(atom_type))\n",
      "/Users/mmccull/opt/anaconda3/envs/nomkl/lib/python3.10/site-packages/MDAnalysis/topology/guessers.py:146: UserWarning: Failed to guess the mass for the following atom types: 10\n",
      "  warnings.warn(\"Failed to guess the mass for the following atom types: {}\".format(atom_type))\n",
      "/Users/mmccull/opt/anaconda3/envs/nomkl/lib/python3.10/site-packages/MDAnalysis/topology/guessers.py:146: UserWarning: Failed to guess the mass for the following atom types: 11\n",
      "  warnings.warn(\"Failed to guess the mass for the following atom types: {}\".format(atom_type))\n",
      "/Users/mmccull/opt/anaconda3/envs/nomkl/lib/python3.10/site-packages/MDAnalysis/topology/guessers.py:146: UserWarning: Failed to guess the mass for the following atom types: 12\n",
      "  warnings.warn(\"Failed to guess the mass for the following atom types: {}\".format(atom_type))\n",
      "/Users/mmccull/opt/anaconda3/envs/nomkl/lib/python3.10/site-packages/MDAnalysis/topology/guessers.py:146: UserWarning: Failed to guess the mass for the following atom types: 2\n",
      "  warnings.warn(\"Failed to guess the mass for the following atom types: {}\".format(atom_type))\n",
      "/Users/mmccull/opt/anaconda3/envs/nomkl/lib/python3.10/site-packages/MDAnalysis/topology/guessers.py:146: UserWarning: Failed to guess the mass for the following atom types: 3\n",
      "  warnings.warn(\"Failed to guess the mass for the following atom types: {}\".format(atom_type))\n",
      "/Users/mmccull/opt/anaconda3/envs/nomkl/lib/python3.10/site-packages/MDAnalysis/topology/guessers.py:146: UserWarning: Failed to guess the mass for the following atom types: 4\n",
      "  warnings.warn(\"Failed to guess the mass for the following atom types: {}\".format(atom_type))\n",
      "/Users/mmccull/opt/anaconda3/envs/nomkl/lib/python3.10/site-packages/MDAnalysis/topology/guessers.py:146: UserWarning: Failed to guess the mass for the following atom types: 5\n",
      "  warnings.warn(\"Failed to guess the mass for the following atom types: {}\".format(atom_type))\n",
      "/Users/mmccull/opt/anaconda3/envs/nomkl/lib/python3.10/site-packages/MDAnalysis/topology/guessers.py:146: UserWarning: Failed to guess the mass for the following atom types: 6\n",
      "  warnings.warn(\"Failed to guess the mass for the following atom types: {}\".format(atom_type))\n",
      "/Users/mmccull/opt/anaconda3/envs/nomkl/lib/python3.10/site-packages/MDAnalysis/topology/guessers.py:146: UserWarning: Failed to guess the mass for the following atom types: 7\n",
      "  warnings.warn(\"Failed to guess the mass for the following atom types: {}\".format(atom_type))\n",
      "/Users/mmccull/opt/anaconda3/envs/nomkl/lib/python3.10/site-packages/MDAnalysis/topology/guessers.py:146: UserWarning: Failed to guess the mass for the following atom types: 8\n",
      "  warnings.warn(\"Failed to guess the mass for the following atom types: {}\".format(atom_type))\n",
      "/Users/mmccull/opt/anaconda3/envs/nomkl/lib/python3.10/site-packages/MDAnalysis/topology/guessers.py:146: UserWarning: Failed to guess the mass for the following atom types: 9\n",
      "  warnings.warn(\"Failed to guess the mass for the following atom types: {}\".format(atom_type))\n"
     ]
    },
    {
     "name": "stdout",
     "output_type": "stream",
     "text": [
      "Number of atoms in trajectory: 12\n",
      "Number of frames in trajectory: 10001\n",
      "Number of atoms in selection: 12\n"
     ]
    }
   ],
   "source": [
    "prmtopFileName = \"../beaded_helix_example/helix_template.pdb\"\n",
    "trajFileName = \"../beaded_helix_example/helix_folding_eps6.0.dcd\"\n",
    "coord = md.Universe(prmtopFileName,trajFileName)\n",
    "print(\"Number of atoms in trajectory:\", coord.atoms.n_atoms)\n",
    "print(\"Number of frames in trajectory:\", coord.trajectory.n_frames)\n",
    "# make atom selection\n",
    "atomSel = coord.select_atoms('all')\n",
    "print(\"Number of atoms in selection:\", atomSel.n_atoms)\n",
    "# create traj data of selection\n",
    "traj_numpy = np.empty((coord.trajectory.n_frames,atomSel.n_atoms,3),dtype=float)\n",
    "#loop traj\n",
    "for ts in coord.trajectory:\n",
    "    traj_numpy[ts.frame,:] = atomSel.positions"
   ]
  },
  {
   "cell_type": "markdown",
   "metadata": {},
   "source": [
    "## Convert trajectory to a torch tensor and substract center of geometry"
   ]
  },
  {
   "cell_type": "code",
   "execution_count": 10,
   "metadata": {},
   "outputs": [],
   "source": [
    "# for torch we need to declare the device to perform operation\n",
    "device = torch.device(\"cpu\")\n",
    "dtype = torch.float32"
   ]
  },
  {
   "cell_type": "code",
   "execution_count": 12,
   "metadata": {},
   "outputs": [],
   "source": [
    "# create torch tensor\n",
    "traj_tensor = torch.tensor(traj_numpy,device=device,dtype=dtype)\n",
    "# remove COG\n",
    "torch_align.torch_remove_center_of_geometry(traj_tensor)"
   ]
  },
  {
   "cell_type": "markdown",
   "metadata": {},
   "source": [
    "## Uniform alignment"
   ]
  },
  {
   "cell_type": "markdown",
   "metadata": {},
   "source": [
    "Below I will perform a uniform alignment.  The alignment routine takes in and returns torch tensors.  The routine returns the aligned positions, average, and variance.  If you put `verbose=True` the routine will print the log likelihood of each iteration."
   ]
  },
  {
   "cell_type": "code",
   "execution_count": 16,
   "metadata": {},
   "outputs": [
    {
     "name": "stdout",
     "output_type": "stream",
     "text": [
      "14.103167715892111\n",
      "15.653984409911542\n",
      "15.699899158017994\n",
      "15.716427872375503\n",
      "15.725605117749549\n",
      "15.730752390271883\n",
      "15.733637576830931\n",
      "15.735245252710037\n",
      "15.736138815441734\n"
     ]
    }
   ],
   "source": [
    "uniform_aligned_traj_tensor, uniform_avg_tensor, uniform_var_tensor = torch_align.torch_iterative_align_uniform(traj_tensor, device=device, dtype=dtype, verbose=True)"
   ]
  },
  {
   "cell_type": "code",
   "execution_count": 18,
   "metadata": {},
   "outputs": [],
   "source": [
    "# pass tensor back to cpu/numpy\n",
    "uniform_aligned_traj_numpy = uniform_aligned_traj_tensor.cpu().numpy()"
   ]
  },
  {
   "cell_type": "markdown",
   "metadata": {},
   "source": [
    "## Kronecker alignment"
   ]
  },
  {
   "cell_type": "code",
   "execution_count": 17,
   "metadata": {},
   "outputs": [
    {
     "name": "stdout",
     "output_type": "stream",
     "text": [
      "tensor(32.0833, dtype=torch.float64)\n",
      "tensor(34.5350, dtype=torch.float64)\n",
      "tensor(34.8472, dtype=torch.float64)\n",
      "tensor(35.0027, dtype=torch.float64)\n",
      "tensor(35.1261, dtype=torch.float64)\n",
      "tensor(35.2426, dtype=torch.float64)\n",
      "tensor(35.3564, dtype=torch.float64)\n",
      "tensor(35.4575, dtype=torch.float64)\n",
      "tensor(35.5334, dtype=torch.float64)\n",
      "tensor(35.5858, dtype=torch.float64)\n",
      "tensor(35.6198, dtype=torch.float64)\n",
      "tensor(35.6408, dtype=torch.float64)\n",
      "tensor(35.6536, dtype=torch.float64)\n",
      "tensor(35.6612, dtype=torch.float64)\n",
      "tensor(35.6659, dtype=torch.float64)\n",
      "tensor(35.6687, dtype=torch.float64)\n",
      "tensor(35.6705, dtype=torch.float64)\n",
      "tensor(35.6717, dtype=torch.float64)\n",
      "tensor(35.6725, dtype=torch.float64)\n"
     ]
    }
   ],
   "source": [
    "kronecker_aligned_traj_tensor, kronecker_avg_tensor, kronecker_precision_tensor, kronecker_lpdet_tensor = torch_align.torch_iterative_align_kronecker(traj_tensor, device=device, dtype=dtype, verbose=True)"
   ]
  },
  {
   "cell_type": "code",
   "execution_count": 19,
   "metadata": {},
   "outputs": [],
   "source": [
    "kronecker_aligned_traj_numpy = kronecker_aligned_traj_tensor.cpu().numpy()"
   ]
  }
 ],
 "metadata": {
  "kernelspec": {
   "display_name": "Python 3 (ipykernel)",
   "language": "python",
   "name": "python3"
  },
  "language_info": {
   "codemirror_mode": {
    "name": "ipython",
    "version": 3
   },
   "file_extension": ".py",
   "mimetype": "text/x-python",
   "name": "python",
   "nbconvert_exporter": "python",
   "pygments_lexer": "ipython3",
   "version": "3.10.11"
  }
 },
 "nbformat": 4,
 "nbformat_minor": 4
}
