{
 "cells": [
  {
   "cell_type": "code",
   "execution_count": 7,
   "metadata": {},
   "outputs": [],
   "source": [
    "import os\n",
    "import numpy as np\n",
    "import torch\n",
    "import torch.autograd.profiler as profiler\n",
    "from torch_batch_svd import svd\n",
    "import MDAnalysis as md\n",
    "from numba import jit\n",
    "from shapeGMM import _traj_tools as traj_tools\n",
    "from torch_shapeGMM import ShapeGMMTorch\n",
    "from shapeGMM import gmm_shapes"
   ]
  },
  {
   "cell_type": "code",
   "execution_count": 16,
   "metadata": {},
   "outputs": [
    {
     "name": "stdout",
     "output_type": "stream",
     "text": [
      "Number of atoms in trajectory: 577\n",
      "Number of frames in trajectory: 1526041\n",
      "Number of atoms being analyzed: 33\n",
      "Number of frames being analyzed: 152605\n"
     ]
    }
   ],
   "source": [
    "delta = 10\n",
    "# read trajectory\n",
    "data_path = '../../DESRES-Trajectory_pnas2012-2f4k-360K-protein/pnas2012-2f4k-360K-protein/'\n",
    "selection = \"name CA and not resid 42 76\"\n",
    "#selection = \"bynum 5:204\"\n",
    "#selection = \"all\"\n",
    "# LOAD DATA\n",
    "prmtopFileName =  data_path + 'pnas2012-2f4k-360K-protein.pdb'\n",
    "trajFiles = [data_path + files for files in sorted(os.listdir(data_path)) if files.endswith('.dcd')]\n",
    "coord = md.Universe(prmtopFileName,trajFiles)\n",
    "sel = coord.select_atoms(selection)\n",
    "print(\"Number of atoms in trajectory:\", coord.atoms.n_atoms)\n",
    "print(\"Number of frames in trajectory:\",coord.trajectory.n_frames)\n",
    "print(\"Number of atoms being analyzed:\",sel.n_atoms)\n",
    "print(\"Number of frames being analyzed:\",coord.trajectory.n_frames//delta+1)\n",
    "traj = np.empty((coord.trajectory.n_frames//delta+1,sel.n_atoms,3),dtype=float)\n",
    "count = 0\n",
    "for ts in coord.trajectory[::delta]:\n",
    "    traj[count,:,:] = sel.positions#-sel.center_of_geometry()\n",
    "    count += 1"
   ]
  },
  {
   "cell_type": "code",
   "execution_count": 3,
   "metadata": {},
   "outputs": [
    {
     "name": "stdout",
     "output_type": "stream",
     "text": [
      "Number of frames being analyzed: 15261\n",
      "Number of particles being analyzed: 33\n",
      "Number of dimensions (must be 3): 3\n",
      "Initializing clustering using method: chunk\n",
      "Weights from initial clusters in fit: [0.50003276 0.49996724]\n",
      "1 [0.658 0.342] -121.787\n",
      "2 [0.631 0.369] -73.975\n",
      "3 [0.603 0.397] -69.322\n",
      "4 [0.595 0.405] -68.808\n",
      "5 [0.594 0.406] -68.781\n",
      "6 [0.593 0.407] -68.779\n",
      "7 [0.593 0.407] -68.779\n",
      "Total elapsed time: 3035.619\n",
      "Time to send data: 542.514 17.872\n",
      "Expectation time: 944.214 31.105\n",
      "Gamma time: 1.315 0.043\n",
      "Maximization time: 1392.511 45.872\n"
     ]
    }
   ],
   "source": [
    "sgmm = ShapeGMMTorch(n_clusters=2,verbose=True,init_cluster_method=\"chunk\",dtype=torch.float64)\n",
    "sgmm.fit(traj)"
   ]
  },
  {
   "cell_type": "code",
   "execution_count": 9,
   "metadata": {},
   "outputs": [],
   "source": [
    "def torch_fit():\n",
    "    sgmm = ShapeGMMTorch(n_clusters=2,verbose=False,init_cluster_method=\"chunk\",dtype=torch.float64)\n",
    "    sgmm.fit(traj)"
   ]
  },
  {
   "cell_type": "code",
   "execution_count": 10,
   "metadata": {},
   "outputs": [],
   "source": [
    "def cpu_fit():\n",
    "    sgmm_old = gmm_shapes.ShapeGMM(n_clusters=2,verbose=False,init_cluster_method=\"uniform\")\n",
    "    fit_traj = sgmm_old.fit_uniform(traj)"
   ]
  },
  {
   "cell_type": "code",
   "execution_count": 17,
   "metadata": {},
   "outputs": [
    {
     "name": "stdout",
     "output_type": "stream",
     "text": [
      "Total elapsed time: 26587.172\n",
      "Time to send data: 3384.757 12.731\n",
      "Expectation time: 8502.767 31.981\n",
      "Gamma time: 1.93 0.007\n",
      "Maximization time: 13192.504 49.62\n",
      "Total elapsed time: 26533.645\n",
      "Time to send data: 3357.66 12.654\n",
      "Expectation time: 8503.037 32.046\n",
      "Gamma time: 1.926 0.007\n",
      "Maximization time: 13192.475 49.72\n",
      "Total elapsed time: 26688.717\n",
      "Time to send data: 3366.956 12.616\n",
      "Expectation time: 8557.621 32.065\n",
      "Gamma time: 1.942 0.007\n",
      "Maximization time: 13272.986 49.733\n",
      "Total elapsed time: 26723.457\n",
      "Time to send data: 3382.693 12.658\n",
      "Expectation time: 8566.479 32.056\n",
      "Gamma time: 1.936 0.007\n",
      "Maximization time: 13290.84 49.735\n",
      "Total elapsed time: 26716.871\n",
      "Time to send data: 3382.978 12.662\n",
      "Expectation time: 8566.23 32.063\n",
      "Gamma time: 1.931 0.007\n",
      "Maximization time: 13291.849 49.751\n",
      "Total elapsed time: 26726.959\n",
      "Time to send data: 3383.325 12.659\n",
      "Expectation time: 8566.071 32.05\n",
      "Gamma time: 1.932 0.007\n",
      "Maximization time: 13291.621 49.731\n",
      "Total elapsed time: 26730.078\n",
      "Time to send data: 3382.276 12.653\n",
      "Expectation time: 8566.42 32.048\n",
      "Gamma time: 1.931 0.007\n",
      "Maximization time: 13291.863 49.726\n",
      "Total elapsed time: 26729.041\n",
      "Time to send data: 3383.156 12.657\n",
      "Expectation time: 8565.74 32.047\n",
      "Gamma time: 1.928 0.007\n",
      "Maximization time: 13289.563 49.72\n",
      "26.7 s ± 66.2 ms per loop (mean ± std. dev. of 7 runs, 1 loop each)\n"
     ]
    }
   ],
   "source": [
    "# other svd\n",
    "%timeit torch_fit()"
   ]
  },
  {
   "cell_type": "code",
   "execution_count": null,
   "metadata": {},
   "outputs": [],
   "source": [
    "%timeit cpu_fit()"
   ]
  },
  {
   "cell_type": "code",
   "execution_count": 15,
   "metadata": {},
   "outputs": [
    {
     "name": "stdout",
     "output_type": "stream",
     "text": [
      "Total elapsed time: 2878.192\n",
      "Time to send data: 395.105 13.728\n",
      "Expectation time: 937.551 32.574\n",
      "Gamma time: 1.272 0.044\n",
      "Maximization time: 1381.551 48.001\n",
      "Total elapsed time: 2847.587\n",
      "Time to send data: 372.465 13.08\n",
      "Expectation time: 937.379 32.918\n",
      "Gamma time: 1.261 0.044\n",
      "Maximization time: 1381.32 48.508\n",
      "Total elapsed time: 2874.535\n",
      "Time to send data: 373.529 12.994\n",
      "Expectation time: 942.303 32.781\n",
      "Gamma time: 1.271 0.044\n",
      "Maximization time: 1402.756 48.799\n",
      "Total elapsed time: 2866.681\n",
      "Time to send data: 375.319 13.092\n",
      "Expectation time: 944.507 32.948\n",
      "Gamma time: 1.269 0.044\n",
      "Maximization time: 1391.733 48.549\n",
      "Total elapsed time: 2865.1\n",
      "Time to send data: 375.182 13.095\n",
      "Expectation time: 944.263 32.957\n",
      "Gamma time: 1.274 0.044\n",
      "Maximization time: 1391.479 48.566\n",
      "Total elapsed time: 2866.259\n",
      "Time to send data: 375.157 13.089\n",
      "Expectation time: 944.457 32.951\n",
      "Gamma time: 1.258 0.044\n",
      "Maximization time: 1391.236 48.538\n",
      "Total elapsed time: 2866.052\n",
      "Time to send data: 375.14 13.089\n",
      "Expectation time: 944.243 32.946\n",
      "Gamma time: 1.258 0.044\n",
      "Maximization time: 1391.374 48.547\n",
      "Total elapsed time: 2865.133\n",
      "Time to send data: 375.272 13.098\n",
      "Expectation time: 944.224 32.956\n",
      "Gamma time: 1.269 0.044\n",
      "Maximization time: 1391.408 48.563\n",
      "2.86 s ± 7.4 ms per loop (mean ± std. dev. of 7 runs, 1 loop each)\n"
     ]
    }
   ],
   "source": [
    "# torch.linalg.svd\n",
    "%timeit torch_fit()"
   ]
  },
  {
   "cell_type": "code",
   "execution_count": 14,
   "metadata": {},
   "outputs": [
    {
     "name": "stdout",
     "output_type": "stream",
     "text": [
      "11 s ± 10.9 ms per loop (mean ± std. dev. of 7 runs, 1 loop each)\n"
     ]
    }
   ],
   "source": [
    "%timeit cpu_fit()"
   ]
  },
  {
   "cell_type": "code",
   "execution_count": 7,
   "metadata": {},
   "outputs": [],
   "source": [
    "import torch_align\n",
    "traj_tensor = torch.tensor(traj,dtype=torch.float64,device=\"cuda:0\")\n",
    "torch_align.torch_remove_center_of_geometry(traj_tensor)\n",
    "traj_data = traj_tensor.cpu().numpy().astype(np.float64)"
   ]
  },
  {
   "cell_type": "code",
   "execution_count": 10,
   "metadata": {},
   "outputs": [
    {
     "name": "stdout",
     "output_type": "stream",
     "text": [
      "-1878676.1226401418\n"
     ]
    }
   ],
   "source": [
    "from shapeGMM import _gmm_shapes_uniform_library as uniform_lib\n",
    "n_frames = traj.shape[0]\n",
    "n_atoms = traj.shape[1]\n",
    "clusters = np.zeros(n_frames).astype(int)\n",
    "cpu_log_lik = uniform_lib.uniform_sgmm_log_likelihood(traj_data,clusters)\n",
    "print(cpu_log_lik)"
   ]
  },
  {
   "cell_type": "code",
   "execution_count": 7,
   "metadata": {},
   "outputs": [
    {
     "name": "stdout",
     "output_type": "stream",
     "text": [
      "Torch: tensor(-1858678.8339, device='cuda:0', dtype=torch.float64)\n",
      "Cpu: -1858677.5374847776\n"
     ]
    }
   ],
   "source": [
    "from shapeGMM import _gmm_shapes_uniform_library as uniform_lib\n",
    "import torch_uniform_lib\n",
    "n_frames = traj.shape[0]\n",
    "n_atoms = traj.shape[1]\n",
    "clusters = np.ones(n_frames).astype(int)\n",
    "clusters[:n_frames//2] -= 1\n",
    "cpu_log_lik = uniform_lib.uniform_sgmm_log_likelihood(traj_data,clusters)\n",
    "torch_log_lik = torch_uniform_lib.uniform_sgmm_log_likelihood(traj_tensor,clusters)\n",
    "print(\"Torch:\", torch_log_lik)\n",
    "print(\"Cpu:\", cpu_log_lik)"
   ]
  },
  {
   "cell_type": "code",
   "execution_count": 4,
   "metadata": {},
   "outputs": [],
   "source": [
    "from shapeGMM import _gmm_shapes_uniform_library as uniform_lib"
   ]
  },
  {
   "cell_type": "code",
   "execution_count": 7,
   "metadata": {},
   "outputs": [
    {
     "name": "stdout",
     "output_type": "stream",
     "text": [
      "tensor([[  6.8477,   4.7297,   4.7206],\n",
      "        [  3.0619,   3.5255,   4.9044],\n",
      "        [  3.3194,   3.3377,   1.0083],\n",
      "        [  6.1238,   0.6801,   0.6809],\n",
      "        [  4.9286,  -2.9690,   0.5469],\n",
      "        [  8.2410,  -4.1646,   2.3025],\n",
      "        [  7.2443,  -2.0381,   5.2875],\n",
      "        [  3.5406,  -3.4833,   5.4977],\n",
      "        [  2.5575,  -0.6423,   7.7899],\n",
      "        [ -0.0694,   1.2573,   5.6587],\n",
      "        [ -2.4256,  -1.6055,   6.4778],\n",
      "        [ -2.5465,  -0.0371,  10.1318],\n",
      "        [ -5.2052,   2.2669,   8.3972],\n",
      "        [ -7.4261,  -0.7279,   7.8922],\n",
      "        [-10.7499,   0.4367,   9.4302],\n",
      "        [-13.4596,   0.7661,   6.7651],\n",
      "        [-10.7013,   0.1048,   4.2755],\n",
      "        [-10.8844,  -1.8480,   0.9678],\n",
      "        [ -7.1411,  -2.5058,   0.1368],\n",
      "        [ -3.7194,  -1.7842,   1.7905],\n",
      "        [ -2.2321,   1.7227,   0.9927],\n",
      "        [  0.8930,  -0.1173,  -0.2661],\n",
      "        [ -1.2593,  -1.9534,  -2.9012],\n",
      "        [ -2.3790,  -0.5522,  -6.2151],\n",
      "        [  0.9711,   1.3475,  -6.2008],\n",
      "        [  2.2940,  -0.5616,  -9.1767],\n",
      "        [ -0.6005,   0.2268, -11.6282],\n",
      "        [  1.1527,   2.0470, -14.6907],\n",
      "        [  3.8858,   3.6240, -12.3516],\n",
      "        [  7.3980,   2.1533, -11.9761],\n",
      "        [  6.9449,   1.8932,  -7.9544],\n",
      "        [  6.4114,  -0.9418,  -5.3658],\n",
      "        [  4.9838,  -4.1871,  -6.9285]], device='cuda:0', dtype=torch.float64)\n"
     ]
    }
   ],
   "source": [
    "print(traj_tensor[1])"
   ]
  },
  {
   "cell_type": "code",
   "execution_count": 16,
   "metadata": {},
   "outputs": [
    {
     "name": "stdout",
     "output_type": "stream",
     "text": [
      "tensor([[ -8.6059,  -3.9422,  -1.3943],\n",
      "        [ -5.5889,  -3.6376,   1.1788],\n",
      "        [ -3.4849,  -2.6729,  -1.9714],\n",
      "        [ -5.3743,   0.5394,  -3.0420],\n",
      "        [ -4.0941,   3.8045,  -1.4727],\n",
      "        [ -7.7171,   5.3351,  -1.5944],\n",
      "        [ -8.8158,   2.5236,   0.7109],\n",
      "        [ -5.8646,   3.0718,   3.3263],\n",
      "        [ -6.6122,  -0.2919,   4.8815],\n",
      "        [ -3.3654,  -2.2792,   4.1335],\n",
      "        [ -1.7649,  -0.1962,   6.8753],\n",
      "        [ -3.9265,  -2.4093,   9.3764],\n",
      "        [ -0.9146,  -4.8654,   8.8452],\n",
      "        [  1.3670,  -2.3788,  10.5089],\n",
      "        [  3.0578,  -4.4987,  13.2323],\n",
      "        [  6.7893,  -4.8990,  12.5468],\n",
      "        [  6.0819,  -3.2051,   9.2491],\n",
      "        [  8.3089,  -0.7538,   7.2949],\n",
      "        [  5.8301,   0.8383,   4.7540],\n",
      "        [  2.0535,   0.5739,   3.9594],\n",
      "        [  1.0975,  -2.3176,   1.5362],\n",
      "        [ -0.5539,   0.3545,  -0.6704],\n",
      "        [  2.8533,   2.1441,  -1.0395],\n",
      "        [  5.6177,   1.1804,  -3.4117],\n",
      "        [  2.7889,   0.0784,  -5.7814],\n",
      "        [  3.6053,   2.7501,  -8.3204],\n",
      "        [  7.3294,   1.8300,  -8.8633],\n",
      "        [  7.6062,   1.0362, -12.7439],\n",
      "        [  3.9233,  -0.3245, -12.8568],\n",
      "        [  0.9718,   1.7711, -14.0966],\n",
      "        [ -1.0194,   1.1700, -10.6151],\n",
      "        [ -1.9315,   3.2876,  -7.4997],\n",
      "        [  0.3520,   6.3832,  -7.0360]], device='cuda:0', dtype=torch.float64)\n"
     ]
    }
   ],
   "source": [
    "print(traj_tensor[1])"
   ]
  },
  {
   "cell_type": "code",
   "execution_count": 6,
   "metadata": {},
   "outputs": [
    {
     "name": "stdout",
     "output_type": "stream",
     "text": [
      "Torch: tensor(-1878676.1219, device='cuda:0', dtype=torch.float64)\n",
      "CPU: -1878676.1226401418\n"
     ]
    }
   ],
   "source": [
    "import torch_uniform_lib\n",
    "import torch_align\n",
    "clusters = np.zeros(n_frames).astype(int)\n",
    "traj_data = traj_tensor.cpu().numpy().astype(np.float64)\n",
    "torch_log_lik = torch_uniform_lib.uniform_sgmm_log_likelihood(traj_tensor,clusters)\n",
    "cpu_log_lik = uniform_lib.uniform_sgmm_log_likelihood(traj_data.astype(np.float64),clusters)\n",
    "print(\"Torch:\", torch_log_lik)\n",
    "print(\"CPU:\", cpu_log_lik)"
   ]
  },
  {
   "cell_type": "code",
   "execution_count": 8,
   "metadata": {},
   "outputs": [
    {
     "name": "stdout",
     "output_type": "stream",
     "text": [
      "-140.6965287253666\n",
      "-123.27849525863395\n",
      "-123.1051094426547\n",
      "-123.10310916013485\n",
      "-123.10308154852453\n"
     ]
    }
   ],
   "source": [
    "traj_tensor, torch_avg, torch_var = torch_align.torch_iterative_align_uniform(traj_tensor,verbose=True,dtype=torch.float64,thresh=1e-3)"
   ]
  },
  {
   "cell_type": "code",
   "execution_count": 19,
   "metadata": {},
   "outputs": [
    {
     "name": "stdout",
     "output_type": "stream",
     "text": [
      "tensor([[3056.5600,  329.3635,  127.4152],\n",
      "        [1286.9537,  771.7097,   43.2465],\n",
      "        [1272.0988,  751.8033,   71.6444],\n",
      "        ...,\n",
      "        [1545.7034,  929.0017,  127.7904],\n",
      "        [1432.5021,  943.6318,  139.7874],\n",
      "        [1515.1137,  912.2363,  148.8823]], device='cuda:0',\n",
      "       dtype=torch.float64)\n"
     ]
    }
   ],
   "source": [
    "c_mats = torch.matmul(torch_avg.T,traj_tensor)\n",
    "u, s, v = svd(c_mats)\n",
    "print(s)"
   ]
  },
  {
   "cell_type": "code",
   "execution_count": 20,
   "metadata": {},
   "outputs": [],
   "source": [
    "prod_dets = torch.linalg.det(u)*torch.linalg.det(v)"
   ]
  },
  {
   "cell_type": "code",
   "execution_count": 21,
   "metadata": {},
   "outputs": [
    {
     "name": "stdout",
     "output_type": "stream",
     "text": [
      "19.8 µs ± 70.5 ns per loop (mean ± std. dev. of 7 runs, 100000 loops each)\n"
     ]
    }
   ],
   "source": [
    "%timeit u[:,:,-1] *= prod_dets.view(-1,1)"
   ]
  },
  {
   "cell_type": "code",
   "execution_count": 18,
   "metadata": {},
   "outputs": [
    {
     "name": "stdout",
     "output_type": "stream",
     "text": [
      "51.4 µs ± 137 ns per loop (mean ± std. dev. of 7 runs, 10000 loops each)\n"
     ]
    }
   ],
   "source": [
    "def mult(u,prod_dets):\n",
    "    u[:,0,-1] *= prod_dets\n",
    "    u[:,1,-1] *= prod_dets\n",
    "    u[:,2,-1] *= prod_dets\n",
    "%timeit mult(u,prod_dets)"
   ]
  },
  {
   "cell_type": "code",
   "execution_count": 16,
   "metadata": {},
   "outputs": [
    {
     "name": "stdout",
     "output_type": "stream",
     "text": [
      "tensor([[-3453.9513, -1400.3969,  1341.0095,  3513.3387],\n",
      "        [-2104.1921,  -407.2036,   495.9789,  2015.4168],\n",
      "        [-2097.0689,  -411.7150,   556.5262,  1952.2577],\n",
      "        ...,\n",
      "        [-2350.0777,  -436.7064,   184.2885,  2602.4955],\n",
      "        [-2238.6947,  -411.5551,   134.3286,  2515.9212],\n",
      "        [-2282.8416,  -465.1869,   171.7962,  2576.2323]], device='cuda:0',\n",
      "       dtype=torch.float64)\n"
     ]
    }
   ],
   "source": [
    "n_frames = c_mats.shape[0]\n",
    "m_mats = torch.empty((n_frames,4,4),dtype=torch.float64,device=\"cuda:0\")\n",
    "m_mats[:,0,0] = c_mats[:,0,0] + c_mats[:,1,1] + c_mats[:,2,2]\n",
    "m_mats[:,1,0] = c_mats[:,1,2] - c_mats[:,2,1] \n",
    "m_mats[:,1,1] = c_mats[:,0,0] - c_mats[:,1,1] - c_mats[:,2,2]\n",
    "m_mats[:,2,0] = c_mats[:,2,0] - c_mats[:,0,2]\n",
    "m_mats[:,2,1] = c_mats[:,0,1] + c_mats[:,1,0]\n",
    "m_mats[:,2,2] = -c_mats[:,0,0] + c_mats[:,1,1] - c_mats[:,2,2]\n",
    "m_mats[:,3,0] = c_mats[:,0,1] - c_mats[:,1,0]\n",
    "m_mats[:,3,1] = c_mats[:,0,2] - c_mats[:,2,0]\n",
    "m_mats[:,3,2] = c_mats[:,1,2] + c_mats[:,2,1]\n",
    "m_mats[:,3,3] = -c_mats[:,0,0] - c_mats[:,1,1] + c_mats[:,2,2]\n",
    "e, v = torch.linalg.eigh(m_mats)\n",
    "print(e)"
   ]
  },
  {
   "cell_type": "code",
   "execution_count": 18,
   "metadata": {},
   "outputs": [
    {
     "name": "stdout",
     "output_type": "stream",
     "text": [
      "873 ms ± 1.94 ms per loop (mean ± std. dev. of 7 runs, 1 loop each)\n"
     ]
    }
   ],
   "source": [
    "%timeit e, v = torch.linalg.eigh(m_mats)"
   ]
  },
  {
   "cell_type": "code",
   "execution_count": 19,
   "metadata": {},
   "outputs": [
    {
     "name": "stdout",
     "output_type": "stream",
     "text": [
      "58.6 ms ± 15.2 µs per loop (mean ± std. dev. of 7 runs, 10 loops each)\n"
     ]
    }
   ],
   "source": [
    "%timeit u, s, v = svd(c_mats)"
   ]
  },
  {
   "cell_type": "code",
   "execution_count": 20,
   "metadata": {},
   "outputs": [
    {
     "name": "stdout",
     "output_type": "stream",
     "text": [
      "84.2 ms ± 93.7 µs per loop (mean ± std. dev. of 7 runs, 10 loops each)\n"
     ]
    }
   ],
   "source": [
    "%timeit u, s, v = torch.linalg.svd(c_mats)"
   ]
  },
  {
   "cell_type": "code",
   "execution_count": 17,
   "metadata": {},
   "outputs": [
    {
     "name": "stdout",
     "output_type": "stream",
     "text": [
      "torch.Size([15261, 1, 1])\n"
     ]
    }
   ],
   "source": [
    "disp = traj_tensor - torch_avg\n",
    "n_atoms = disp.shape[1]\n",
    "# compute framewise variance\n",
    "mvG = torch.matmul(disp.view(-1,1,n_atoms*3),disp.view(-1,n_atoms*3,1))\n",
    "print(mvG.shape)"
   ]
  },
  {
   "cell_type": "code",
   "execution_count": 9,
   "metadata": {},
   "outputs": [
    {
     "name": "stdout",
     "output_type": "stream",
     "text": [
      "tensor(-1878676.1275, device='cuda:0', dtype=torch.float64)\n"
     ]
    }
   ],
   "source": [
    "disp = traj_tensor - torch_avg\n",
    "mvg = torch_uniform_lib.ln_spherical_gaussian_pdf(disp,torch_var).reshape(1,n_frames)\n",
    "torch_log_likelihood = torch.logsumexp(mvg,0)\n",
    "print(torch.sum(torch_log_likelihood))"
   ]
  },
  {
   "cell_type": "code",
   "execution_count": 79,
   "metadata": {},
   "outputs": [
    {
     "name": "stdout",
     "output_type": "stream",
     "text": [
      "[[-602.29209913 -209.18311537 -232.3707049  ...  -82.05303052\n",
      "   -82.51625549  -81.54216565]]\n"
     ]
    }
   ],
   "source": [
    "avg_numpy = avg.cpu().numpy()\n",
    "mvG = uniform_lib.ln_spherical_gaussian_pdf(traj_data.reshape(n_frames,n_atoms*3), center.reshape(n_atoms*3), var).reshape(1,n_frames)\n",
    "log_likelihood = 0\n",
    "for i in range(n_frames):\n",
    "    log_likelihood += uniform_lib.logsumexp(mvG[:,i])\n",
    "print(mvG)"
   ]
  },
  {
   "cell_type": "code",
   "execution_count": 86,
   "metadata": {},
   "outputs": [
    {
     "name": "stdout",
     "output_type": "stream",
     "text": [
      "tensor(-9516086.9248, device='cuda:0', dtype=torch.float64)\n"
     ]
    }
   ],
   "source": [
    "disp = traj_tensor - torch_avg\n",
    "var_x = torch.matmul(disp[:,:,0].reshape(n_frames,1,n_atoms),disp[:,:,0].reshape(n_frames,n_atoms,1))\n",
    "var_y = torch.matmul(disp[:,:,1].reshape(n_frames,1,n_atoms),disp[:,:,1].reshape(n_frames,n_atoms,1))\n",
    "var_z = torch.matmul(disp[:,:,2].reshape(n_frames,1,n_atoms),disp[:,:,2].reshape(n_frames,n_atoms,1))\n",
    "var_sum = var_x + var_y + var_z\n",
    "lnnorm = -1.5*(n_atoms-1)*torch.log(torch_var)\n",
    "multiplier = -0.5/torch_var\n",
    "var_sum *= multiplier\n",
    "var_sum += lnnorm\n",
    "print(torch.sum(var_sum))"
   ]
  },
  {
   "cell_type": "code",
   "execution_count": 74,
   "metadata": {},
   "outputs": [
    {
     "name": "stdout",
     "output_type": "stream",
     "text": [
      "1\n"
     ]
    }
   ],
   "source": [
    "# meta data from inputs\n",
    "n_frames = traj_data.shape[0]\n",
    "n_clusters = np.amax(clusters) + 1\n",
    "print(n_clusters)\n",
    "n_atoms = traj_data.shape[1]\n",
    "n_dim = traj_data.shape[2]\n",
    "n_features = n_atoms*n_dim\n",
    "# declare arrays \n",
    "cluster_frame_ln_likelihoods = np.empty((n_clusters,n_frames),dtype=np.float64)\n",
    "ln_weights = np.empty(n_clusters,dtype=np.float64)\n",
    "# compute likelihood of each frame at each Gaussian\n",
    "for k in range(n_clusters):\n",
    "    indeces = np.argwhere(clusters == k).flatten()\n",
    "    center, var = traj_tools.traj_iterative_average_var(traj_data[indeces])\n",
    "    # initialize weights as populations of clusters\n",
    "    ln_weights[k] = np.log(indeces.size/n_frames)\n",
    "    # align the entire trajectory to each cluster mean if requested\n",
    "    traj_data = traj_tools.traj_align(traj_data,center)\n",
    "    cluster_frame_ln_likelihoods[k,:] = ln_spherical_gaussian_pdf(traj_data.reshape(n_frames,n_features), center.reshape(n_features), var)\n",
    "# compute log likelihood\n",
    "log_likelihood = 0.0\n",
    "for i in range(n_frames):\n",
    "    log_likelihood += logsumexp(cluster_frame_ln_likelihoods[:,i]+ln_weights[k])"
   ]
  },
  {
   "cell_type": "code",
   "execution_count": 77,
   "metadata": {},
   "outputs": [
    {
     "name": "stdout",
     "output_type": "stream",
     "text": [
      "[[-602.29209913 -209.18311537 -232.3707049  ...  -82.05303052\n",
      "   -82.51625549  -81.54216565]]\n"
     ]
    }
   ],
   "source": [
    "print(cluster_frame_ln_likelihoods)"
   ]
  },
  {
   "cell_type": "code",
   "execution_count": 75,
   "metadata": {},
   "outputs": [
    {
     "name": "stdout",
     "output_type": "stream",
     "text": [
      "4.781302754332612 tensor(4.7810, device='cuda:0', dtype=torch.float64)\n"
     ]
    }
   ],
   "source": [
    "print(var, torch_var )"
   ]
  },
  {
   "cell_type": "code",
   "execution_count": 48,
   "metadata": {},
   "outputs": [],
   "source": [
    "def logsumexp(x):\n",
    "    c = x.max()\n",
    "    return c + np.log(np.sum(np.exp(x - c)))\n",
    "def ln_spherical_gaussian_pdf(x, mu, sigma):\n",
    "    n_samples = x.shape[0]\n",
    "    n_dim = x.shape[1]-3\n",
    "#    lnnorm = -0.5*n_dim*(np.log(2.0*np.pi*sigma))\n",
    "    lnnorm = -0.5*n_dim*(np.log(sigma))\n",
    "    mvG = np.empty(n_samples,dtype=np.float64)\n",
    "    multiplier = -0.5/sigma\n",
    "    for i in range(n_samples):\n",
    "        diffV = x[i] - mu\n",
    "        mvG[i] = multiplier*np.dot(diffV,diffV) + lnnorm\n",
    "    return mvG\n",
    "def uniform_sgmm_log_likelihood(traj_data,clusters):\n",
    "    # meta data from inputs\n",
    "    n_frames = traj_data.shape[0]\n",
    "    n_clusters = np.amax(clusters) + 1\n",
    "    n_atoms = traj_data.shape[1]\n",
    "    n_dim = traj_data.shape[2]\n",
    "    n_features = n_atoms*n_dim\n",
    "    # declare arrays \n",
    "    cluster_frame_ln_likelihoods = np.empty((n_clusters,n_frames),dtype=np.float64)\n",
    "    ln_weights = np.empty(n_clusters,dtype=np.float64)\n",
    "    # compute likelihood of each frame at each Gaussian\n",
    "    for k in range(n_clusters):\n",
    "        indeces = np.argwhere(clusters == k).flatten()\n",
    "        center, var = traj_tools.traj_iterative_average_var(traj_data[indeces])\n",
    "        # initialize weights as populations of clusters\n",
    "        ln_weights[k] = np.log(indeces.size/n_frames)\n",
    "        # align the entire trajectory to each cluster mean if requested\n",
    "        traj_data = traj_tools.traj_align(traj_data,center)\n",
    "        cluster_frame_ln_likelihoods[k,:] = ln_spherical_gaussian_pdf(traj_data.reshape(n_frames,n_features), center.reshape(n_features), var)\n",
    "    # compute log likelihood\n",
    "    log_likelihood = 0.0\n",
    "    for i in range(n_frames):\n",
    "        log_likelihood += logsumexp(cluster_frame_ln_likelihoods[:,i]+ln_weights[k])\n",
    "    return log_likelihood"
   ]
  },
  {
   "cell_type": "code",
   "execution_count": 8,
   "metadata": {},
   "outputs": [
    {
     "name": "stdout",
     "output_type": "stream",
     "text": [
      "Number of frames being analyzed: 15261\n",
      "Number of particles being analyzed: 33\n",
      "Number of dimensions (must be 3): 3\n",
      "Initializing clustering using method: uniform\n",
      "Weights from initial clusters in fit_uniform: [0.50003276 0.49996724]\n",
      "0 [0.65797721 0.34202279] -1858579.5053968055\n",
      "1 [0.6306054 0.3693946] -1128964.6520612452\n",
      "2 [0.60295421 0.39704579] -1057938.8030235204\n",
      "3 [0.59539528 0.40460472] -1050076.1681569528\n",
      "4 [0.59372018 0.40627982] -1049660.0410772387\n",
      "5 [0.59328434 0.40671566] -1049640.9193107646\n",
      "6 [0.59316424 0.40683576] -1049639.637364138\n",
      "7 [0.59313113 0.40686887] -1049639.5406551328\n",
      "8 [0.59312202 0.40687798] -1049639.5333279734\n",
      "9 [0.59311951 0.40688049] -1049639.5327734153\n"
     ]
    }
   ],
   "source": [
    "from shapeGMM import gmm_shapes\n",
    "sgmm_old = gmm_shapes.ShapeGMM(n_clusters=2,verbose=True,init_cluster_method=\"uniform\")\n",
    "fit_traj = sgmm_old.fit_uniform(traj)"
   ]
  },
  {
   "cell_type": "code",
   "execution_count": 18,
   "metadata": {},
   "outputs": [
    {
     "name": "stdout",
     "output_type": "stream",
     "text": [
      "Weights from initial clusters in fit_uniform: [0.59275277 0.40724723]\n",
      "0 [0.62444435 0.37555565] -3403343.4878362184\n",
      "1 [0.66948927 0.33051073] -3323079.034704934\n",
      "2 [0.68303397 0.31696603] -3257122.596708434\n",
      "3 [0.64723401 0.35276599] -3149249.517208174\n",
      "4 [0.62892598 0.37107402] -3144556.3241802976\n",
      "5 [0.6172524 0.3827476] -3143619.8291211957\n",
      "6 [0.60969269 0.39030731] -3143249.9492966174\n",
      "7 [0.60452411 0.39547589] -3143094.7077788482\n",
      "8 [0.60105919 0.39894081] -3143021.919000625\n",
      "9 [0.59885202 0.40114798] -3142989.944946185\n",
      "10 [0.5974765 0.4025235] -3142977.1653555883\n",
      "11 [0.59662226 0.40337774] -3142972.2266322062\n",
      "12 [0.59609107 0.40390893] -3142970.323638196\n",
      "13 [0.59576016 0.40423984] -3142969.5876060715\n",
      "14 [0.59555375 0.40444625] -3142969.3018288827\n",
      "15 [0.59542486 0.40457514] -3142969.190572466\n",
      "16 [0.59534434 0.40465566] -3142969.1471800175\n",
      "17 [0.59529402 0.40470598] -3142969.130235106\n",
      "18 [0.59526255 0.40473745] -3142969.123614055\n",
      "19 [0.59524288 0.40475712] -3142969.1210251553\n",
      "20 [0.59523058 0.40476942] -3142969.120012623\n",
      "21 [0.59522288 0.40477712] -3142969.119616608\n"
     ]
    }
   ],
   "source": [
    "fit_traj = sgmm_old.fit_uniform(traj)"
   ]
  },
  {
   "cell_type": "code",
   "execution_count": 9,
   "metadata": {},
   "outputs": [
    {
     "name": "stdout",
     "output_type": "stream",
     "text": [
      "0.877569553617483 10.437978021037393\n",
      "0.877451743765751 10.437371041473902\n"
     ]
    }
   ],
   "source": [
    "print(sgmm_old.var[0], sgmm_old.var[1])\n",
    "print(sgmm.vars[0], sgmm.vars[1])"
   ]
  },
  {
   "cell_type": "code",
   "execution_count": 10,
   "metadata": {},
   "outputs": [
    {
     "data": {
      "text/plain": [
       "0.0003145757821771825"
      ]
     },
     "execution_count": 10,
     "metadata": {},
     "output_type": "execute_result"
    }
   ],
   "source": [
    "traj_tools.rmsd_kabsch(sgmm_old.centers[0],sgmm.centers[0].astype(np.float64))"
   ]
  },
  {
   "cell_type": "code",
   "execution_count": 11,
   "metadata": {},
   "outputs": [
    {
     "data": {
      "text/plain": [
       "0.006805439149254265"
      ]
     },
     "execution_count": 11,
     "metadata": {},
     "output_type": "execute_result"
    }
   ],
   "source": [
    "traj_tools.rmsd_kabsch(sgmm_old.centers[1],sgmm.centers[1].astype(np.float64))"
   ]
  },
  {
   "cell_type": "code",
   "execution_count": 28,
   "metadata": {},
   "outputs": [
    {
     "data": {
      "text/plain": [
       "0.14050713439442097"
      ]
     },
     "execution_count": 28,
     "metadata": {},
     "output_type": "execute_result"
    }
   ],
   "source": [
    "traj_tools.rmsd_kabsch(sgmm_old.centers[1],sgmm.centers[0].astype(np.float64))"
   ]
  },
  {
   "cell_type": "code",
   "execution_count": null,
   "metadata": {},
   "outputs": [],
   "source": [
    "\n",
    "def torch_sd(traj_tensor, ref_tensor, dtype=torch.float32, device=torch.device(\"cuda:0\")):\n",
    "    # meta data\n",
    "    n_frames = traj_tensor.shape[0]\n",
    "    # compute correlation matrices using batched matmul\n",
    "    c_mats = torch.matmul(ref_tensor.T,traj_tensor)\n",
    "    m_mats = torch.empty((n_frames,4,4),dtype=dtype,device=device)\n",
    "    m_mats[:,0,0] = c_mats[:,0,0] + c_mats[:,1,1] + c_mats[:,2,2]\n",
    "    m_mats[:,1,0] = c_mats[:,1,2] - c_mats[:,2,1] \n",
    "    m_mats[:,1,1] = c_mats[:,0,0] - c_mats[:,1,1] - c_mats[:,2,2]\n",
    "    m_mats[:,2,0] = c_mats[:,2,0] - c_mats[:,0,2]\n",
    "    m_mats[:,2,1] = c_mats[:,0,1] + c_mats[:,1,0]\n",
    "    m_mats[:,2,2] = -c_mats[:,0,0] + c_mats[:,1,1] - c_mats[:,2,2]\n",
    "    m_mats[:,3,0] = c_mats[:,0,1] - c_mats[:,1,0]\n",
    "    m_mats[:,3,1] = c_mats[:,0,2] - c_mats[:,2,0]\n",
    "    m_mats[:,3,2] = c_mats[:,1,2] + c_mats[:,2,1]\n",
    "    m_mats[:,3,3] = -c_mats[:,0,0] - c_mats[:,1,1] + c_mats[:,2,2]\n",
    "    e, v = torch.linalg.eigh(m_mats)\n",
    "    return e[:,0]\n",
    "    # free up local variables \n",
    "    del c_mats\n",
    "    del m_mats\n",
    "    del e\n",
    "    del v\n",
    "    torch.cuda.empty_cache()    \n",
    "    "
   ]
  }
 ],
 "metadata": {
  "kernelspec": {
   "display_name": "Python 3",
   "language": "python",
   "name": "python3"
  },
  "language_info": {
   "codemirror_mode": {
    "name": "ipython",
    "version": 3
   },
   "file_extension": ".py",
   "mimetype": "text/x-python",
   "name": "python",
   "nbconvert_exporter": "python",
   "pygments_lexer": "ipython3",
   "version": "3.8.5"
  }
 },
 "nbformat": 4,
 "nbformat_minor": 4
}
