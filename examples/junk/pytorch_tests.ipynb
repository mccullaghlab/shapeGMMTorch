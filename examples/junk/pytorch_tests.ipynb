{
 "cells": [
  {
   "cell_type": "code",
   "execution_count": 1,
   "metadata": {},
   "outputs": [],
   "source": [
    "import os\n",
    "import numpy as np\n",
    "import torch\n",
    "import torch.autograd.profiler as profiler\n",
    "from torch_batch_svd import svd\n",
    "import MDAnalysis as md\n",
    "from numba import jit\n",
    "from shapeGMM import _traj_tools as traj_tools"
   ]
  },
  {
   "cell_type": "code",
   "execution_count": 2,
   "metadata": {},
   "outputs": [
    {
     "name": "stdout",
     "output_type": "stream",
     "text": [
      "Number of atoms in trajectory: 577\n",
      "Number of frames in trajectory: 1526041\n",
      "Number of atoms being analyzed: 33\n",
      "Number of frames being analyzed: 15261\n"
     ]
    }
   ],
   "source": [
    "delta = 100\n",
    "# read trajectory\n",
    "data_path = '../../DESRES-Trajectory_pnas2012-2f4k-360K-protein/pnas2012-2f4k-360K-protein/'\n",
    "selection = \"name CA and not resid 42 76\"\n",
    "#selection = \"bynum 5:204\"\n",
    "#selection = \"all\"\n",
    "# LOAD DATA\n",
    "prmtopFileName =  data_path + 'pnas2012-2f4k-360K-protein.pdb'\n",
    "trajFiles = [data_path + files for files in sorted(os.listdir(data_path)) if files.endswith('.dcd')]\n",
    "coord = md.Universe(prmtopFileName,trajFiles)\n",
    "sel = coord.select_atoms(selection)\n",
    "print(\"Number of atoms in trajectory:\", coord.atoms.n_atoms)\n",
    "print(\"Number of frames in trajectory:\",coord.trajectory.n_frames)\n",
    "print(\"Number of atoms being analyzed:\",sel.n_atoms)\n",
    "print(\"Number of frames being analyzed:\",coord.trajectory.n_frames//delta+1)\n",
    "traj = np.empty((coord.trajectory.n_frames//delta+1,sel.n_atoms,3),dtype=float)\n",
    "count = 0\n",
    "for ts in coord.trajectory[::delta]:\n",
    "    traj[count,:,:] = sel.positions#-sel.center_of_geometry()\n",
    "    count += 1"
   ]
  },
  {
   "cell_type": "code",
   "execution_count": 3,
   "metadata": {},
   "outputs": [
    {
     "name": "stdout",
     "output_type": "stream",
     "text": [
      "tensor(-52.7160, device='cuda:0', dtype=torch.float64)\n",
      "tensor(-51.5468, device='cuda:0', dtype=torch.float64)\n",
      "tensor(-50.8493, device='cuda:0', dtype=torch.float64)\n",
      "tensor(-50.0606, device='cuda:0', dtype=torch.float64)\n",
      "tensor(-49.1118, device='cuda:0', dtype=torch.float64)\n",
      "tensor(-48.1023, device='cuda:0', dtype=torch.float64)\n",
      "tensor(-47.2618, device='cuda:0', dtype=torch.float64)\n",
      "tensor(-46.6332, device='cuda:0', dtype=torch.float64)\n",
      "tensor(-46.1532, device='cuda:0', dtype=torch.float64)\n",
      "tensor(-45.6956, device='cuda:0', dtype=torch.float64)\n",
      "tensor(-45.2119, device='cuda:0', dtype=torch.float64)\n",
      "tensor(-44.7064, device='cuda:0', dtype=torch.float64)\n",
      "tensor(-44.3232, device='cuda:0', dtype=torch.float64)\n",
      "tensor(-44.1066, device='cuda:0', dtype=torch.float64)\n",
      "tensor(-43.9780, device='cuda:0', dtype=torch.float64)\n",
      "tensor(-43.8858, device='cuda:0', dtype=torch.float64)\n",
      "tensor(-43.8063, device='cuda:0', dtype=torch.float64)\n",
      "tensor(-43.7220, device='cuda:0', dtype=torch.float64)\n",
      "tensor(-43.6127, device='cuda:0', dtype=torch.float64)\n",
      "tensor(-43.4479, device='cuda:0', dtype=torch.float64)\n",
      "tensor(-43.1856, device='cuda:0', dtype=torch.float64)\n",
      "tensor(-42.8058, device='cuda:0', dtype=torch.float64)\n",
      "tensor(-42.3885, device='cuda:0', dtype=torch.float64)\n",
      "tensor(-42.0691, device='cuda:0', dtype=torch.float64)\n",
      "tensor(-41.8631, device='cuda:0', dtype=torch.float64)\n",
      "tensor(-41.7203, device='cuda:0', dtype=torch.float64)\n",
      "tensor(-41.6102, device='cuda:0', dtype=torch.float64)\n",
      "tensor(-41.5191, device='cuda:0', dtype=torch.float64)\n",
      "tensor(-41.4404, device='cuda:0', dtype=torch.float64)\n",
      "tensor(-41.3703, device='cuda:0', dtype=torch.float64)\n",
      "tensor(-41.3063, device='cuda:0', dtype=torch.float64)\n",
      "tensor(-41.2469, device='cuda:0', dtype=torch.float64)\n",
      "tensor(-41.1913, device='cuda:0', dtype=torch.float64)\n",
      "tensor(-41.1389, device='cuda:0', dtype=torch.float64)\n",
      "tensor(-41.0890, device='cuda:0', dtype=torch.float64)\n",
      "tensor(-41.0416, device='cuda:0', dtype=torch.float64)\n",
      "tensor(-40.9963, device='cuda:0', dtype=torch.float64)\n",
      "tensor(-40.9531, device='cuda:0', dtype=torch.float64)\n",
      "tensor(-40.9119, device='cuda:0', dtype=torch.float64)\n",
      "tensor(-40.8726, device='cuda:0', dtype=torch.float64)\n",
      "tensor(-40.8352, device='cuda:0', dtype=torch.float64)\n",
      "tensor(-40.7998, device='cuda:0', dtype=torch.float64)\n",
      "tensor(-40.7663, device='cuda:0', dtype=torch.float64)\n",
      "tensor(-40.7347, device='cuda:0', dtype=torch.float64)\n",
      "tensor(-40.7052, device='cuda:0', dtype=torch.float64)\n",
      "tensor(-40.6776, device='cuda:0', dtype=torch.float64)\n",
      "tensor(-40.6521, device='cuda:0', dtype=torch.float64)\n",
      "tensor(-40.6285, device='cuda:0', dtype=torch.float64)\n",
      "tensor(-40.6069, device='cuda:0', dtype=torch.float64)\n",
      "tensor(-40.5872, device='cuda:0', dtype=torch.float64)\n",
      "tensor(-40.5694, device='cuda:0', dtype=torch.float64)\n",
      "tensor(-40.5534, device='cuda:0', dtype=torch.float64)\n",
      "tensor(-40.5391, device='cuda:0', dtype=torch.float64)\n",
      "tensor(-40.5263, device='cuda:0', dtype=torch.float64)\n",
      "tensor(-40.5151, device='cuda:0', dtype=torch.float64)\n",
      "tensor(-40.5051, device='cuda:0', dtype=torch.float64)\n",
      "tensor(-40.4964, device='cuda:0', dtype=torch.float64)\n",
      "tensor(-40.4889, device='cuda:0', dtype=torch.float64)\n",
      "tensor(-40.4823, device='cuda:0', dtype=torch.float64)\n",
      "tensor(-40.4765, device='cuda:0', dtype=torch.float64)\n",
      "tensor(-40.4716, device='cuda:0', dtype=torch.float64)\n",
      "tensor(-40.4674, device='cuda:0', dtype=torch.float64)\n",
      "tensor(-40.4637, device='cuda:0', dtype=torch.float64)\n",
      "tensor(-40.4606, device='cuda:0', dtype=torch.float64)\n",
      "tensor(-40.4580, device='cuda:0', dtype=torch.float64)\n",
      "tensor(-40.4557, device='cuda:0', dtype=torch.float64)\n",
      "tensor(-40.4538, device='cuda:0', dtype=torch.float64)\n",
      "tensor(-40.4521, device='cuda:0', dtype=torch.float64)\n",
      "tensor(-40.4507, device='cuda:0', dtype=torch.float64)\n",
      "tensor(-40.4495, device='cuda:0', dtype=torch.float64)\n",
      "tensor(-40.4486, device='cuda:0', dtype=torch.float64)\n"
     ]
    }
   ],
   "source": [
    "import torch_align\n",
    "dtype=torch.float32\n",
    "device=torch.device(\"cuda:0\")\n",
    "traj_tensor = torch.tensor(traj,dtype=dtype,device=device)\n",
    "torch_align.torch_remove_center_of_geometry(traj_tensor)\n",
    "n_frames = traj.shape[0]\n",
    "weights = np.ones(n_frames)\n",
    "weights /= np.sum(weights)\n",
    "weight_tensor = torch.tensor(weights,dtype=dtype,device=device)\n",
    "avg, precision, lpdet  = torch_align.torch_iterative_align_kronecker_weighted(traj_tensor, weight_tensor, dtype=torch.float32, device=torch.device(\"cuda:0\"), thresh=1e-3, verbose=True)"
   ]
  },
  {
   "cell_type": "code",
   "execution_count": 17,
   "metadata": {},
   "outputs": [
    {
     "name": "stdout",
     "output_type": "stream",
     "text": [
      "torch.Size([15261, 33, 3])\n"
     ]
    }
   ],
   "source": [
    "disp = traj_tensor - avg\n",
    "print(disp.shape)"
   ]
  },
  {
   "cell_type": "code",
   "execution_count": 19,
   "metadata": {},
   "outputs": [
    {
     "name": "stdout",
     "output_type": "stream",
     "text": [
      "torch.Size([15261, 1, 33])\n"
     ]
    }
   ],
   "source": [
    "print(disp[:,:,0].view(-1,1,33).shape)"
   ]
  },
  {
   "cell_type": "code",
   "execution_count": 20,
   "metadata": {},
   "outputs": [
    {
     "data": {
      "text/plain": [
       "torch.Size([15261, 1, 1])"
      ]
     },
     "execution_count": 20,
     "metadata": {},
     "output_type": "execute_result"
    }
   ],
   "source": [
    "torch.matmul(disp[:,:,0].view(-1,1,n_atoms),disp[:,:,0].view(-1,n_atoms,1)).shape"
   ]
  },
  {
   "cell_type": "code",
   "execution_count": 5,
   "metadata": {},
   "outputs": [
    {
     "name": "stdout",
     "output_type": "stream",
     "text": [
      "tensor(4.7810, device='cuda:0', dtype=torch.float64)\n"
     ]
    }
   ],
   "source": [
    "print(var)"
   ]
  },
  {
   "cell_type": "code",
   "execution_count": 24,
   "metadata": {},
   "outputs": [],
   "source": [
    "def torch_remove_center_of_geometry(traj_tensor, dtype=torch.float32, device=torch.device(\"cuda:0\")):\n",
    "    # meta data\n",
    "    n_frames = traj.shape[0]\n",
    "    n_atoms = traj.shape[1]\n",
    "\n",
    "    cog = torch.mean(traj_tensor.to(torch.float64),1,False)\n",
    "    for i in range(n_frames):\n",
    "        traj_tensor[i] -= cog[i]\n",
    "    del cog\n",
    "    torch.cuda.empty_cache()"
   ]
  },
  {
   "cell_type": "code",
   "execution_count": 30,
   "metadata": {},
   "outputs": [
    {
     "name": "stdout",
     "output_type": "stream",
     "text": [
      "tensor([[  1.9979,   5.8565,  -3.6840],\n",
      "        [ -4.8365, -25.3204,  -8.6482],\n",
      "        [  7.7014,  -2.8374,  12.1676],\n",
      "        ...,\n",
      "        [ 17.2672,  -4.2508, -13.3152],\n",
      "        [-19.9200,  21.4330,  -0.5505],\n",
      "        [  2.5963, -22.8508,  13.9161]], device='cuda:0', dtype=torch.float64)\n",
      "tensor([[ 3.5672e-08, -3.6124e-08,  1.1560e-07],\n",
      "        [ 2.8673e-08, -3.3866e-09,  9.0310e-09],\n",
      "        [ 4.4252e-08,  6.5023e-08, -3.5672e-08],\n",
      "        ...,\n",
      "        [ 5.8702e-09, -1.4675e-08,  8.6923e-08],\n",
      "        [-8.1279e-08,  6.1411e-08, -1.5578e-08],\n",
      "        [-1.2643e-08,  6.5023e-08,  1.2282e-07]], device='cuda:0',\n",
      "       dtype=torch.float64)\n"
     ]
    }
   ],
   "source": [
    "dtype=torch.float32\n",
    "device=torch.device(\"cuda:0\")\n",
    "traj_tensor = torch.tensor(traj,dtype=dtype,device=device)\n",
    "print(torch.mean(traj_tensor.to(torch.float64),1,False))\n",
    "torch_remove_center_of_geometry(traj_tensor)\n",
    "print(torch.mean(traj_tensor.to(torch.float64),1,False))"
   ]
  },
  {
   "cell_type": "code",
   "execution_count": 8,
   "metadata": {},
   "outputs": [
    {
     "name": "stdout",
     "output_type": "stream",
     "text": [
      "-140.69652950129063\n",
      "-123.27849629441\n",
      "-123.10511106747325\n",
      "-123.10311220817795\n",
      "-123.10308607006304\n"
     ]
    }
   ],
   "source": [
    "# test weighted alignment\n",
    "import torch_align\n",
    "n_frames = traj.shape[0]\n",
    "n_atoms = traj.shape[1]\n",
    "weights = np.random.random(n_frames)\n",
    "weights = np.ones(n_frames)\n",
    "weights /= np.sum(weights)\n",
    "traj = torch_align.torch_remove_center_of_geometry(traj)\n",
    "avg_weighted, traj_aligned_weighted, var_weighted = torch_align.torch_align_uniform_weighted(traj, weights, dtype=torch.float32, device=torch.device(\"cuda:0\"), thresh=1e-3, verbose=True)"
   ]
  },
  {
   "cell_type": "code",
   "execution_count": 6,
   "metadata": {},
   "outputs": [
    {
     "name": "stdout",
     "output_type": "stream",
     "text": [
      "-140.69653134979797\n",
      "-123.27849755290518\n",
      "-123.1051121858449\n",
      "-123.10311314101853\n",
      "-123.10308647354991\n"
     ]
    }
   ],
   "source": [
    "avg, traj_aligned, var = torch_align.torch_align_uniform(traj, dtype=torch.float32, device=torch.device(\"cuda:0\"), thresh=1e-3, verbose=True)"
   ]
  },
  {
   "cell_type": "code",
   "execution_count": 39,
   "metadata": {},
   "outputs": [
    {
     "name": "stdout",
     "output_type": "stream",
     "text": [
      "-140.69653134979797\n",
      "-123.27849755290518\n",
      "-123.1051121858449\n",
      "-123.10311314101853\n",
      "-123.10308647354991\n",
      "Total elapsed time: 124.589\n",
      "log_lik time 0.738 0.593\n"
     ]
    }
   ],
   "source": [
    "avg, traj_aligned, var = torch_align_uniform(traj, dtype=torch.float32, device=torch.device(\"cuda:0\"), thresh=1e-3, verbose=True)"
   ]
  },
  {
   "cell_type": "code",
   "execution_count": 9,
   "metadata": {},
   "outputs": [
    {
     "name": "stdout",
     "output_type": "stream",
     "text": [
      "4.780989984875232 4.780989944686343\n"
     ]
    }
   ],
   "source": [
    "print(var, var_weighted)"
   ]
  },
  {
   "cell_type": "code",
   "execution_count": 10,
   "metadata": {},
   "outputs": [
    {
     "name": "stdout",
     "output_type": "stream",
     "text": [
      "[[ 9.5367432e-07  0.0000000e+00  0.0000000e+00]\n",
      " [ 0.0000000e+00 -2.3841858e-07  0.0000000e+00]\n",
      " [ 0.0000000e+00  0.0000000e+00  0.0000000e+00]\n",
      " [ 0.0000000e+00  1.1920929e-07  0.0000000e+00]\n",
      " [ 4.7683716e-07  0.0000000e+00 -1.1920929e-07]\n",
      " [ 0.0000000e+00  0.0000000e+00 -2.3841858e-07]\n",
      " [ 0.0000000e+00  2.3841858e-07 -1.4901161e-07]\n",
      " [ 4.7683716e-07  1.7881393e-07 -2.3841858e-07]\n",
      " [ 0.0000000e+00  2.3841858e-07 -1.1920929e-07]\n",
      " [ 0.0000000e+00  0.0000000e+00 -5.9604645e-08]\n",
      " [ 0.0000000e+00  2.3841858e-07  0.0000000e+00]\n",
      " [ 0.0000000e+00  0.0000000e+00  0.0000000e+00]\n",
      " [ 0.0000000e+00  2.9802322e-08 -4.7683716e-07]\n",
      " [-2.9802322e-08 -5.9604645e-08  9.5367432e-07]\n",
      " [-5.9604645e-08 -2.3841858e-07 -4.7683716e-07]\n",
      " [ 0.0000000e+00 -1.1920929e-07  0.0000000e+00]\n",
      " [ 0.0000000e+00 -1.4901161e-07  4.7683716e-07]\n",
      " [ 0.0000000e+00  0.0000000e+00  4.7683716e-07]\n",
      " [-4.7683716e-07 -2.3841858e-07  0.0000000e+00]\n",
      " [-1.9073486e-06 -1.1920929e-07  2.3841858e-07]\n",
      " [ 9.5367432e-07 -2.3841858e-07  1.1920929e-07]\n",
      " [ 0.0000000e+00 -1.1920929e-07  4.7683716e-07]\n",
      " [-9.5367432e-07 -1.1920929e-07  2.3841858e-07]\n",
      " [-4.7683716e-07 -5.9604645e-08  2.3841858e-07]\n",
      " [-9.5367432e-07  0.0000000e+00  0.0000000e+00]\n",
      " [ 0.0000000e+00  0.0000000e+00  4.7683716e-07]\n",
      " [ 0.0000000e+00  0.0000000e+00  4.7683716e-07]\n",
      " [ 0.0000000e+00  0.0000000e+00  0.0000000e+00]\n",
      " [ 0.0000000e+00 -2.3841858e-07  0.0000000e+00]\n",
      " [ 0.0000000e+00  2.9802322e-08  0.0000000e+00]\n",
      " [-1.4901161e-08  1.1920929e-07  0.0000000e+00]\n",
      " [ 4.2964530e-09  2.3841858e-07  0.0000000e+00]\n",
      " [ 7.4505806e-09 -4.7683716e-07  0.0000000e+00]]\n"
     ]
    }
   ],
   "source": [
    "print(avg-avg_weighted)"
   ]
  },
  {
   "cell_type": "code",
   "execution_count": 38,
   "metadata": {},
   "outputs": [],
   "source": [
    "\n",
    "def _torch_uniform_log_likelihood(disp):\n",
    "    # meta data\n",
    "    n_frames = disp.shape[0]\n",
    "    n_atoms = disp.shape[1]\n",
    "    # reshape displacement \n",
    "    disp = torch.reshape(disp,(n_frames*n_atoms*3,1))\n",
    "    # compute variance\n",
    "    var = torch.sum(disp*disp).cpu().numpy()\n",
    "    var /= n_frames*3*(n_atoms-1)\n",
    "    # compute log likelihood (per frame)\n",
    "    log_lik = -1.5*(n_atoms-1)*(np.log(var) + 1)\n",
    "    return log_lik, var\n",
    "\n",
    "def torch_align_uniform(traj, dtype=torch.float32, device=torch.device(\"cuda:0\"), thresh=1e-3, verbose=False):\n",
    "    # meta data\n",
    "    n_frames = traj.shape[0]\n",
    "    n_atoms = traj.shape[1]\n",
    "    # timing data\n",
    "    total_start = torch.cuda.Event(enable_timing=True)\n",
    "    total_stop = torch.cuda.Event(enable_timing=True)\n",
    "    log_lik_start = torch.cuda.Event(enable_timing=True)\n",
    "    log_lik_stop = torch.cuda.Event(enable_timing=True)\n",
    "    log_lik_elapsed = 0.0\n",
    "    total_start.record()\n",
    "    \n",
    "    # pass trajectory to device\n",
    "    traj_tensor = torch.tensor(traj,dtype=dtype,device=device)\n",
    "\n",
    "    # initialize with average as the first frame (arbitrary choice)\n",
    "    avg = traj_tensor[0]\n",
    "\n",
    "    delta_log_lik = thresh+10\n",
    "    old_log_lik = 0\n",
    "    while (delta_log_lik > thresh):\n",
    "        # compute correlation matrices using batched matmul\n",
    "        c_mats = torch.matmul(avg.T,traj_tensor)\n",
    "        # perfrom SVD of c_mats using batched SVD\n",
    "        #u, s, v = torch.linalg.svd(c_mats)\n",
    "        u, s, v = svd(c_mats)\n",
    "        # ensure true rotation by correcting sign of determinant\n",
    "        prod_dets = torch.linalg.det(u)*torch.linalg.det(v)\n",
    "        u[:,0,-1] *= prod_dets\n",
    "        u[:,1,-1] *= prod_dets\n",
    "        u[:,2,-1] *= prod_dets\n",
    "        #rot_mat = torch.transpose(torch.matmul(u,v),1,2)\n",
    "        rot_mat = torch.transpose(torch.matmul(u,torch.transpose(v,1,2)),1,2)\n",
    "        # do rotation\n",
    "        traj_tensor = torch.matmul(traj_tensor,rot_mat)\n",
    "        # compute new average\n",
    "        avg = torch.mean(traj_tensor,0,False)\n",
    "        disp = (traj_tensor - avg).to(torch.float64)\n",
    "        # compute log likelihood and variance\n",
    "        log_lik_start.record()\n",
    "        log_lik, var = _torch_uniform_log_likelihood(disp)\n",
    "        log_lik_stop.record()\n",
    "        torch.cuda.synchronize()\n",
    "        log_lik_elapsed += log_lik_start.elapsed_time(log_lik_stop)\n",
    "        delta_log_lik = abs(log_lik - old_log_lik)\n",
    "        if verbose==True:\n",
    "            print(log_lik)\n",
    "        old_log_lik = log_lik\n",
    "    total_stop.record()\n",
    "    torch.cuda.synchronize()\n",
    "    total_time = total_start.elapsed_time(total_stop)\n",
    "    print(\"Total elapsed time:\",np.round(total_time,3))\n",
    "    print(\"log_lik time\", np.round(log_lik_elapsed,3), np.round(log_lik_elapsed/total_time*100,3))\n",
    "    \n",
    "    return avg.cpu().numpy(), traj_tensor.cpu().numpy(), var\n"
   ]
  },
  {
   "cell_type": "markdown",
   "metadata": {},
   "source": [
    "# Kronecker alignment with weights"
   ]
  },
  {
   "cell_type": "code",
   "execution_count": 14,
   "metadata": {},
   "outputs": [
    {
     "name": "stdout",
     "output_type": "stream",
     "text": [
      "-52.715989010402126\n",
      "-51.54684564122217\n",
      "-50.849343027704606\n",
      "-50.06061663526944\n",
      "-49.11179997354897\n",
      "-48.10234065492433\n",
      "-47.261789951434324\n",
      "-46.63319579144418\n",
      "-46.15324130695882\n",
      "-45.69556600354173\n",
      "-45.2118659987544\n",
      "-44.7064055980933\n",
      "-44.323208356653254\n",
      "-44.1065659604726\n",
      "-43.978021076940394\n",
      "-43.88585042749277\n",
      "-43.8063181398916\n",
      "-43.72201515484187\n",
      "-43.61273587022087\n",
      "-43.447898755076956\n",
      "-43.185651755806475\n",
      "-42.80579315509976\n",
      "-42.38850053136583\n",
      "-42.06908340540164\n",
      "-41.86311241482156\n",
      "-41.72032555904979\n",
      "-41.6101700456448\n",
      "-41.51912685730258\n",
      "-41.44043674303579\n",
      "-41.37025851289659\n",
      "-41.3062527890569\n",
      "-41.24693817800421\n",
      "-41.191352177481356\n",
      "-41.13885893490008\n",
      "-41.08903054238571\n",
      "-41.04158124037112\n",
      "-40.99631598591567\n",
      "-40.95311002158887\n",
      "-40.91188663727155\n",
      "-40.87259935109681\n",
      "-40.8352352238429\n",
      "-40.799792965338675\n",
      "-40.766289549389874\n",
      "-40.734744194862955\n",
      "-40.70518110203772\n",
      "-40.67761412009876\n",
      "-40.65205468778431\n",
      "-40.62849311903964\n",
      "-40.6069021107015\n",
      "-40.587237203044864\n",
      "-40.569437408896945\n",
      "-40.55341981763551\n",
      "-40.53909220026742\n",
      "-40.52634721176138\n",
      "-40.51507266320467\n",
      "-40.50514385335625\n"
     ]
    }
   ],
   "source": [
    "import torch_align\n",
    "avg_k, traj_aligned_k, covar_k, lpdet_k = torch_align.torch_align_kronecker(traj, dtype=torch.float32, device=torch.device(\"cuda:0\"), thresh=1e-2, verbose=True)"
   ]
  },
  {
   "cell_type": "code",
   "execution_count": 16,
   "metadata": {},
   "outputs": [
    {
     "name": "stdout",
     "output_type": "stream",
     "text": [
      "[[ 3.31032081e-01 -4.38182215e-01  1.65037451e-01 ... -9.27287032e-03\n",
      "   7.37842507e-03 -3.86456582e-03]\n",
      " [-4.38182215e-01  1.18122577e+00 -9.45447593e-01 ...  1.62949663e-03\n",
      "   1.87891832e-03 -1.38323177e-03]\n",
      " [ 1.65037451e-01 -9.45447593e-01  1.56786380e+00 ... -2.58739090e-02\n",
      "   2.69759649e-02 -4.33100926e-03]\n",
      " ...\n",
      " [-9.27287032e-03  1.62949663e-03 -2.58739090e-02 ...  1.46806588e+00\n",
      "  -6.37120145e-01  6.37218212e-03]\n",
      " [ 7.37842507e-03  1.87891832e-03  2.69759649e-02 ... -6.37120145e-01\n",
      "   1.19078585e+00 -6.12696263e-01]\n",
      " [-3.86456582e-03 -1.38323177e-03 -4.33100926e-03 ...  6.37218212e-03\n",
      "  -6.12696263e-01  5.08183947e-01]]\n"
     ]
    }
   ],
   "source": [
    "print(covar_k)"
   ]
  },
  {
   "cell_type": "code",
   "execution_count": 8,
   "metadata": {},
   "outputs": [
    {
     "name": "stdout",
     "output_type": "stream",
     "text": [
      "2.1444792689533237e-20\n"
     ]
    }
   ],
   "source": [
    "print(np.linalg.det(covar_k)**3)"
   ]
  },
  {
   "cell_type": "code",
   "execution_count": 7,
   "metadata": {},
   "outputs": [
    {
     "name": "stdout",
     "output_type": "stream",
     "text": [
      "2.144479268954352e-20\n"
     ]
    }
   ],
   "source": [
    "print(np.linalg.det(np.kron(covar_k,np.identity(3))))"
   ]
  },
  {
   "cell_type": "code",
   "execution_count": 11,
   "metadata": {},
   "outputs": [],
   "source": [
    "def _torch_pseudo_inv(sigma, dtype=torch.float64, device=torch.device(\"cuda:0\"),EigenValueThresh=1e-10):\n",
    "    N = sigma.shape[0]\n",
    "    e, v = torch.linalg.eigh(sigma)\n",
    "    pinv = torch.tensor(np.zeros(sigma.shape),dtype=dtype,device=device)\n",
    "    lpdet = torch.tensor(0.0,dtype=dtype,device=device)\n",
    "    for i in range(N):\n",
    "        if (e[i] > EigenValueThresh):\n",
    "            lpdet += torch.log(e[i])\n",
    "            pinv += 1.0/e[i]*torch.outer(v[:,i],v[:,i])\n",
    "    return pinv, lpdet\n",
    "\n",
    "def _torch_kronecker_weighted_log_lik(disp, weight_tensor, precision, lpdet):\n",
    "    # meta data\n",
    "    n_frames = disp.shape[0]\n",
    "    n_atoms = disp.shape[1]\n",
    "    # compute log Likelihood for all points\n",
    "    #log_lik = torch.trace(torch.sum(torch.matmul(torch.transpose(disp,1,2),torch.matmul(precision,disp)),0))\n",
    "    log_lik = torch.sum(torch.matmul(torch.transpose(torch.reshape(disp[:,:,0],(n_frames,n_atoms,1)),1,2),torch.matmul(precision,torch.reshape(disp[:,:,0],(n_frames,n_atoms,1))))*weight_tensor.view(-1,1,1),0)\n",
    "    log_lik += torch.sum(torch.matmul(torch.transpose(torch.reshape(disp[:,:,1],(n_frames,n_atoms,1)),1,2),torch.matmul(precision,torch.reshape(disp[:,:,1],(n_frames,n_atoms,1))))*weight_tensor.view(-1,1,1),0)\n",
    "    log_lik += torch.sum(torch.matmul(torch.transpose(torch.reshape(disp[:,:,2],(n_frames,n_atoms,1)),1,2),torch.matmul(precision,torch.reshape(disp[:,:,2],(n_frames,n_atoms,1))))*weight_tensor.view(-1,1,1),0)\n",
    "    log_lik *= -0.5\n",
    "    log_lik -= 1.5 * lpdet\n",
    "    return log_lik\n",
    "\n",
    "def torch_align_kronecker_weighted(traj, weights, stride=1000, dtype=torch.float32, device=torch.device(\"cuda:0\"), thresh=1e-3, verbose=False):\n",
    "    # meta data\n",
    "    n_frames = traj.shape[0]\n",
    "    n_atoms = traj.shape[1]\n",
    "    \n",
    "    # pass trajectory to device\n",
    "    traj_tensor = torch.tensor(traj, dtype=dtype, device=device)\n",
    "    weight_tensor = torch.tensor(weights,dtype=dtype,device=device)\n",
    "    covar_norm = torch.tensor(1/3,dtype=torch.float64,device=device)\n",
    "    \n",
    "    # initialize with average as the first frame (arbitrary choice)\n",
    "    weighted_avg = traj_tensor[0].T\n",
    "    \n",
    "    delta_log_lik = thresh+10\n",
    "    old_log_lik = 0\n",
    "    while (delta_log_lik > thresh):\n",
    "        # compute correlation matrices using batched matmul\n",
    "        c_mats = torch.matmul(weighted_avg,traj_tensor)\n",
    "        # perfrom SVD of c_mats using batched SVD\n",
    "        #u, s, v = torch.linalg.svd(c_mats)\n",
    "        u, s, v = svd(c_mats)\n",
    "        # ensure true rotation by correcting sign of determinant \n",
    "        prod_dets = torch.linalg.det(u)*torch.linalg.det(v)\n",
    "        u[:,0,-1] *= prod_dets\n",
    "        u[:,1,-1] *= prod_dets\n",
    "        u[:,2,-1] *= prod_dets\n",
    "        #rot_mat = torch.transpose(torch.matmul(u,v),1,2)\n",
    "        rot_mat = torch.transpose(torch.matmul(u,torch.transpose(v,1,2)),1,2)\n",
    "        # do rotation\n",
    "        traj_tensor = torch.matmul(traj_tensor,rot_mat)\n",
    "        # compute new average\n",
    "        avg = torch.sum((traj_tensor*weight_tensor.view(-1,1,1)).to(torch.float64),0,False)\n",
    "        disp = traj_tensor.to(torch.float64) - avg\n",
    "        # compute covar using strided data\n",
    "        covar = torch.tensor(np.zeros((n_atoms,n_atoms)),dtype=torch.float64,device=device)\n",
    "        for frame in range(0,n_frames,stride):\n",
    "            covar += torch.sum(torch.matmul(disp[frame:frame+stride],torch.transpose(disp[frame:frame+stride],1,2))*weight_tensor[frame:frame+stride].view(-1,1,1),0)\n",
    "        covar *= covar_norm\n",
    "        # log likelihood\n",
    "        precision, lpdet = _torch_pseudo_inv(covar,dtype=torch.float64,device=device)\n",
    "        log_lik = _torch_kronecker_weighted_log_lik(disp, weight_tensor, precision, lpdet).cpu().numpy()[0][0]\n",
    "        delta_log_lik = abs(log_lik - old_log_lik)\n",
    "        if verbose == True:\n",
    "            print(log_lik)\n",
    "        old_log_lik = log_lik\n",
    "        weighted_avg = torch.matmul(avg.T,precision).to(dtype)\n",
    "\n",
    "    return avg.cpu().numpy(), traj_tensor.cpu().numpy(), precision.cpu().numpy(), lpdet.cpu().numpy()\n"
   ]
  },
  {
   "cell_type": "code",
   "execution_count": 17,
   "metadata": {},
   "outputs": [
    {
     "name": "stdout",
     "output_type": "stream",
     "text": [
      "-52.71598691994702\n",
      "-51.546843140383714\n",
      "-50.849340455006676\n",
      "-50.06061458077904\n",
      "-49.111798186861776\n",
      "-48.1023388702704\n",
      "-47.26178880839869\n",
      "-46.633194327417264\n",
      "-46.153241027203244\n",
      "-45.69556600192617\n",
      "-45.211866439701296\n",
      "-44.70640657826238\n",
      "-44.32320925776384\n",
      "-44.106566709637725\n",
      "-43.97802138869429\n",
      "-43.88585045208407\n",
      "-43.80631820040114\n",
      "-43.722015108823506\n",
      "-43.612735976826066\n",
      "-43.447899483931046\n",
      "-43.18565124910742\n",
      "-42.80579266584211\n",
      "-42.38850135434713\n",
      "-42.06908417476599\n",
      "-41.86311250307963\n",
      "-41.72032509244113\n",
      "-41.61017083476501\n",
      "-41.51912757631702\n",
      "-41.44043741266851\n",
      "-41.37026041025876\n",
      "-41.30625556594816\n",
      "-41.24694079800153\n",
      "-41.19135506027813\n",
      "-41.138862194541126\n",
      "-41.08903369229002\n",
      "-41.041583041275395\n",
      "-40.99631705364416\n",
      "-40.953111338329606\n",
      "-40.911887990932605\n",
      "-40.87260203008973\n",
      "-40.83523808764217\n",
      "-40.79979666787079\n",
      "-40.76629262027978\n",
      "-40.73474630582153\n",
      "-40.705181555217585\n",
      "-40.67761548445738\n",
      "-40.6520540911081\n",
      "-40.62849104426222\n",
      "-40.606901297707296\n",
      "-40.5872383559127\n",
      "-40.56943922172136\n",
      "-40.553424998025164\n",
      "-40.53909847526575\n",
      "-40.52635337238401\n",
      "-40.51507735589692\n",
      "-40.5051491935855\n"
     ]
    }
   ],
   "source": [
    "import torch_align\n",
    "n_frames = traj.shape[0]\n",
    "n_atoms = traj.shape[1]\n",
    "weights = np.random.random(n_frames)\n",
    "weights = np.ones(n_frames)\n",
    "weights /= np.sum(weights)\n",
    "traj = torch_align.torch_remove_center_of_geometry(traj)\n",
    "avg_k_w, traj_aligned_k_w, covar_k_w, lpdet_k_w = torch_align_kronecker_weighted(traj, weights, dtype=torch.float32, device=torch.device(\"cuda:0\"), thresh=1e-2, verbose=True)"
   ]
  },
  {
   "cell_type": "code",
   "execution_count": 18,
   "metadata": {},
   "outputs": [
    {
     "name": "stdout",
     "output_type": "stream",
     "text": [
      "-4.994473916255258 -4.996567204277507\n"
     ]
    }
   ],
   "source": [
    "print(lpdet_k, lpdet_k_w)"
   ]
  },
  {
   "cell_type": "code",
   "execution_count": 19,
   "metadata": {},
   "outputs": [
    {
     "name": "stdout",
     "output_type": "stream",
     "text": [
      "[[-2.17265299e-05  2.85760171e-05 -1.06941514e-05 ...  5.64416062e-07\n",
      "  -2.99066525e-07  1.47581722e-07]\n",
      " [ 2.85760171e-05 -7.75703521e-05  6.20422586e-05 ... -1.63928173e-07\n",
      "  -8.21958679e-08 -7.52041227e-08]\n",
      " [-1.06941514e-05  6.20422586e-05 -1.02697522e-04 ...  1.60884777e-06\n",
      "  -1.54430193e-06  3.31240664e-07]\n",
      " ...\n",
      " [ 5.64416062e-07 -1.63928173e-07  1.60884777e-06 ... -9.62735086e-05\n",
      "   4.20674589e-05 -6.57640060e-07]\n",
      " [-2.99066525e-07 -8.21958679e-08 -1.54430193e-06 ...  4.20674589e-05\n",
      "  -7.78202861e-05  4.01808260e-05]\n",
      " [ 1.47581722e-07 -7.52041227e-08  3.31240664e-07 ... -6.57640060e-07\n",
      "   4.01808260e-05 -3.33809819e-05]]\n"
     ]
    }
   ],
   "source": [
    "print(covar_k - covar_k_w)"
   ]
  },
  {
   "cell_type": "code",
   "execution_count": 22,
   "metadata": {},
   "outputs": [
    {
     "name": "stdout",
     "output_type": "stream",
     "text": [
      "[[ 3.31053808e-01 -4.38210791e-01  1.65048146e-01 ... -9.27343474e-03\n",
      "   7.37872414e-03 -3.86471340e-03]\n",
      " [-4.38210791e-01  1.18130334e+00 -9.45509635e-01 ...  1.62966056e-03\n",
      "   1.87900052e-03 -1.38315656e-03]\n",
      " [ 1.65048146e-01 -9.45509635e-01  1.56796650e+00 ... -2.58755178e-02\n",
      "   2.69775092e-02 -4.33134050e-03]\n",
      " ...\n",
      " [-9.27343474e-03  1.62966056e-03 -2.58755178e-02 ...  1.46816215e+00\n",
      "  -6.37162212e-01  6.37283976e-03]\n",
      " [ 7.37872414e-03  1.87900052e-03  2.69775092e-02 ... -6.37162212e-01\n",
      "   1.19086367e+00 -6.12736444e-01]\n",
      " [-3.86471340e-03 -1.38315656e-03 -4.33134050e-03 ...  6.37283976e-03\n",
      "  -6.12736444e-01  5.08217328e-01]]\n"
     ]
    }
   ],
   "source": [
    "print(covar_k_w)"
   ]
  },
  {
   "cell_type": "code",
   "execution_count": null,
   "metadata": {},
   "outputs": [],
   "source": []
  }
 ],
 "metadata": {
  "kernelspec": {
   "display_name": "Python 3",
   "language": "python",
   "name": "python3"
  },
  "language_info": {
   "codemirror_mode": {
    "name": "ipython",
    "version": 3
   },
   "file_extension": ".py",
   "mimetype": "text/x-python",
   "name": "python",
   "nbconvert_exporter": "python",
   "pygments_lexer": "ipython3",
   "version": "3.8.5"
  }
 },
 "nbformat": 4,
 "nbformat_minor": 4
}
