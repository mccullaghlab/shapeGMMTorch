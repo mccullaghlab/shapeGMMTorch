{
 "cells": [
  {
   "cell_type": "code",
   "execution_count": 1,
   "metadata": {},
   "outputs": [],
   "source": [
    "import os\n",
    "import numpy as np\n",
    "import torch\n",
    "import torch.autograd.profiler as profiler\n",
    "from torch_batch_svd import svd\n",
    "import MDAnalysis as md\n",
    "from numba import jit\n",
    "from shapeGMM import _traj_tools as traj_tools\n",
    "from torch_shapeGMM import ShapeGMMTorch\n",
    "from shapeGMM import gmm_shapes"
   ]
  },
  {
   "cell_type": "code",
   "execution_count": 2,
   "metadata": {},
   "outputs": [
    {
     "name": "stdout",
     "output_type": "stream",
     "text": [
      "Number of atoms in trajectory: 577\n",
      "Number of frames in trajectory: 1526041\n",
      "Number of atoms being analyzed: 33\n",
      "Number of frames being analyzed: 15261\n"
     ]
    }
   ],
   "source": [
    "delta = 100\n",
    "# read trajectory\n",
    "data_path = '../../DESRES-Trajectory_pnas2012-2f4k-360K-protein/pnas2012-2f4k-360K-protein/'\n",
    "selection = \"name CA and not resid 42 76\"\n",
    "#selection = \"bynum 5:204\"\n",
    "#selection = \"all\"\n",
    "# LOAD DATA\n",
    "prmtopFileName =  data_path + 'pnas2012-2f4k-360K-protein.pdb'\n",
    "trajFiles = [data_path + files for files in sorted(os.listdir(data_path)) if files.endswith('.dcd')]\n",
    "coord = md.Universe(prmtopFileName,trajFiles)\n",
    "sel = coord.select_atoms(selection)\n",
    "print(\"Number of atoms in trajectory:\", coord.atoms.n_atoms)\n",
    "print(\"Number of frames in trajectory:\",coord.trajectory.n_frames)\n",
    "print(\"Number of atoms being analyzed:\",sel.n_atoms)\n",
    "print(\"Number of frames being analyzed:\",coord.trajectory.n_frames//delta+1)\n",
    "traj = np.empty((coord.trajectory.n_frames//delta+1,sel.n_atoms,3),dtype=float)\n",
    "count = 0\n",
    "for ts in coord.trajectory[::delta]:\n",
    "    traj[count,:,:] = sel.positions#-sel.center_of_geometry()\n",
    "    count += 1"
   ]
  },
  {
   "cell_type": "code",
   "execution_count": 3,
   "metadata": {},
   "outputs": [
    {
     "name": "stdout",
     "output_type": "stream",
     "text": [
      "Number of frames being analyzed: 15261\n",
      "Number of particles being analyzed: 33\n",
      "Number of dimensions (must be 3): 3\n",
      "Initializing clustering using method: chunk\n",
      "Weights from initial clusters in fit: [0.50003276 0.49996724]\n",
      "1 [0.736 0.264] -42.428\n",
      "2 [0.702 0.298] -9.915\n",
      "3 [0.677 0.323] 3.745\n",
      "4 [0.662 0.338] 5.054\n",
      "5 [0.657 0.343] 5.673\n",
      "6 [0.655 0.345] 5.811\n",
      "7 [0.652 0.348] 8.807\n",
      "8 [0.65 0.35] 8.893\n",
      "9 [0.649 0.351] 8.952\n",
      "10 [0.648 0.352] 8.991\n",
      "11 [0.647 0.353] 9.019\n",
      "12 [0.647 0.353] 9.039\n",
      "13 [0.646 0.354] 9.054\n",
      "14 [0.645 0.355] 9.066\n",
      "15 [0.644 0.356] 9.077\n",
      "16 [0.643 0.357] 9.087\n",
      "17 [0.641 0.359] 9.101\n",
      "18 [0.638 0.362] 9.126\n",
      "19 [0.635 0.365] 9.173\n",
      "20 [0.631 0.369] 9.231\n",
      "21 [0.627 0.373] 9.329\n",
      "22 [0.623 0.377] 9.416\n",
      "23 [0.621 0.379] 9.463\n",
      "24 [0.62 0.38] 9.485\n",
      "25 [0.619 0.381] 9.498\n",
      "26 [0.618 0.382] 9.505\n",
      "27 [0.618 0.382] 9.51\n",
      "28 [0.617 0.383] 9.515\n",
      "29 [0.617 0.383] 9.52\n",
      "30 [0.616 0.384] 9.523\n",
      "31 [0.615 0.385] 9.526\n",
      "32 [0.615 0.385] 9.528\n",
      "33 [0.615 0.385] 9.53\n",
      "34 [0.615 0.385] 9.531\n",
      "35 [0.614 0.386] 9.532\n",
      "Total elapsed time: 13397.018\n",
      "Time to send data: 1529.589 11.417\n",
      "Expectation time: 4427.009 33.045\n",
      "Gamma time: 6.444 0.048\n",
      "Maximization time: 7262.792 54.212\n"
     ]
    }
   ],
   "source": [
    "sgmm = ShapeGMMTorch(n_clusters=2,verbose=True,init_cluster_method=\"chunk\",covar_type='kronecker', dtype=torch.float64)\n",
    "sgmm.fit(traj)"
   ]
  },
  {
   "cell_type": "code",
   "execution_count": 12,
   "metadata": {},
   "outputs": [
    {
     "name": "stdout",
     "output_type": "stream",
     "text": [
      "Number of frames being analyzed: 15261\n",
      "Number of particles being analyzed: 33\n",
      "Number of dimensions (must be 3): 3\n",
      "Initializing clustering using method: uniform\n",
      "Weights from initial clusters in fit_weighted: [0.50003276 0.49996724]\n",
      "0 [0.65611611 0.34388389] -542683.368109674\n",
      "1 [0.68559448 0.31440552] -124849.74323508382\n",
      "2 [0.66152117 0.33847883] 122326.82415978817\n",
      "3 [0.65328896 0.34671104] 137503.80063696523\n",
      "4 [0.65059016 0.34940984] 138751.30609375035\n",
      "5 [0.64901371 0.35098629] 139011.0170284908\n",
      "6 [0.64785434 0.35214566] 139080.80548396613\n",
      "7 [0.64698078 0.35301922] 139119.60963216814\n",
      "8 [0.64617509 0.35382491] 139145.12355020083\n",
      "9 [0.64539883 0.35460117] 139170.5047556147\n",
      "10 [0.64461704 0.35538296] 139198.0954637449\n",
      "11 [0.64382073 0.35617927] 139229.66480666792\n",
      "12 [0.64296243 0.35703757] 139265.690556446\n",
      "13 [0.64161703 0.35838297] 139320.50172731993\n",
      "14 [0.6395769 0.3604231] 139475.98201389724\n",
      "15 [0.6366522 0.3633478] 139870.74152640378\n",
      "16 [0.63360488 0.36639512] 140579.00799935538\n",
      "17 [0.62919828 0.37080172] 141499.4096783865\n",
      "18 [0.62521753 0.37478247] 143234.53875276435\n",
      "19 [0.62186164 0.37813836] 144523.6396439288\n",
      "20 [0.61966412 0.38033588] 145008.61366329182\n",
      "21 [0.6183841 0.3816159] 145196.73785660235\n",
      "22 [0.61715897 0.38284103] 145305.04497930343\n",
      "23 [0.61612093 0.38387907] 145386.7062684308\n",
      "24 [0.61523862 0.38476138] 145438.6382919407\n",
      "25 [0.61467193 0.38532807] 145472.8334834023\n",
      "26 [0.61440628 0.38559372] 145485.30694701636\n"
     ]
    }
   ],
   "source": [
    "sgmm_old = gmm_shapes.ShapeGMM(n_clusters=2,verbose=True,log_thresh=15.0, init_cluster_method=\"uniform\")\n",
    "fit_traj = sgmm_old.fit_weighted(traj)"
   ]
  },
  {
   "cell_type": "code",
   "execution_count": 11,
   "metadata": {},
   "outputs": [
    {
     "data": {
      "text/plain": [
       "15.261000000000001"
      ]
     },
     "execution_count": 11,
     "metadata": {},
     "output_type": "execute_result"
    }
   ],
   "source": [
    "1e-3*15261"
   ]
  },
  {
   "cell_type": "code",
   "execution_count": 4,
   "metadata": {},
   "outputs": [],
   "source": [
    "def torch_fit():\n",
    "    sgmm = ShapeGMMTorch(n_clusters=2,verbose=False,init_cluster_method=\"chunk\",covar_type='kronecker',dtype=torch.float64)\n",
    "    sgmm.fit(traj)"
   ]
  },
  {
   "cell_type": "code",
   "execution_count": 5,
   "metadata": {},
   "outputs": [],
   "source": [
    "def cpu_fit():\n",
    "    sgmm_old = gmm_shapes.ShapeGMM(n_clusters=2,log_thresh=15.0, verbose=False,init_cluster_method=\"uniform\")\n",
    "    fit_traj = sgmm_old.fit_weighted(traj)"
   ]
  },
  {
   "cell_type": "code",
   "execution_count": 6,
   "metadata": {},
   "outputs": [
    {
     "name": "stdout",
     "output_type": "stream",
     "text": [
      "Total elapsed time: 13236.952\n",
      "Time to send data: 1391.375 10.511\n",
      "Expectation time: 4430.921 33.474\n",
      "Gamma time: 6.014 0.045\n",
      "Maximization time: 7254.096 54.802\n",
      "Total elapsed time: 13304.563\n",
      "Time to send data: 1374.199 10.329\n",
      "Expectation time: 4468.481 33.586\n",
      "Gamma time: 6.078 0.046\n",
      "Maximization time: 7302.383 54.886\n",
      "Total elapsed time: 13309.149\n",
      "Time to send data: 1382.954 10.391\n",
      "Expectation time: 4464.14 33.542\n",
      "Gamma time: 6.085 0.046\n",
      "Maximization time: 7302.38 54.867\n",
      "Total elapsed time: 13314.797\n",
      "Time to send data: 1382.644 10.384\n",
      "Expectation time: 4465.836 33.54\n",
      "Gamma time: 6.145 0.046\n",
      "Maximization time: 7306.168 54.873\n",
      "Total elapsed time: 13319.37\n",
      "Time to send data: 1384.287 10.393\n",
      "Expectation time: 4465.302 33.525\n",
      "Gamma time: 6.092 0.046\n",
      "Maximization time: 7309.332 54.877\n",
      "Total elapsed time: 13323.999\n",
      "Time to send data: 1382.672 10.377\n",
      "Expectation time: 4464.677 33.509\n",
      "Gamma time: 6.095 0.046\n",
      "Maximization time: 7302.837 54.81\n",
      "Total elapsed time: 13400.501\n",
      "Time to send data: 1383.374 10.323\n",
      "Expectation time: 4507.613 33.638\n",
      "Gamma time: 6.077 0.045\n",
      "Maximization time: 7349.739 54.847\n",
      "Total elapsed time: 13400.141\n",
      "Time to send data: 1391.861 10.387\n",
      "Expectation time: 4497.406 33.562\n",
      "Gamma time: 6.06 0.045\n",
      "Maximization time: 7351.397 54.861\n",
      "13.3 s ± 39.3 ms per loop (mean ± std. dev. of 7 runs, 1 loop each)\n"
     ]
    }
   ],
   "source": [
    "# other svd\n",
    "%timeit torch_fit()"
   ]
  },
  {
   "cell_type": "code",
   "execution_count": 7,
   "metadata": {},
   "outputs": [
    {
     "name": "stdout",
     "output_type": "stream",
     "text": [
      "2min 18s ± 1.6 s per loop (mean ± std. dev. of 7 runs, 1 loop each)\n"
     ]
    }
   ],
   "source": [
    "%timeit cpu_fit()"
   ]
  },
  {
   "cell_type": "code",
   "execution_count": 7,
   "metadata": {},
   "outputs": [
    {
     "name": "stdout",
     "output_type": "stream",
     "text": [
      "2min 6s ± 380 ms per loop (mean ± std. dev. of 7 runs, 1 loop each)\n"
     ]
    }
   ],
   "source": [
    "%timeit cpu_fit()"
   ]
  }
 ],
 "metadata": {
  "kernelspec": {
   "display_name": "Python 3",
   "language": "python",
   "name": "python3"
  },
  "language_info": {
   "codemirror_mode": {
    "name": "ipython",
    "version": 3
   },
   "file_extension": ".py",
   "mimetype": "text/x-python",
   "name": "python",
   "nbconvert_exporter": "python",
   "pygments_lexer": "ipython3",
   "version": "3.8.5"
  }
 },
 "nbformat": 4,
 "nbformat_minor": 4
}
