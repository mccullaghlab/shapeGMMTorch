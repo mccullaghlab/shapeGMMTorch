{
 "cells": [
  {
   "cell_type": "code",
   "execution_count": null,
   "metadata": {},
   "outputs": [],
   "source": [
    "import os\n",
    "import numpy as np\n",
    "import torch\n",
    "import torch.autograd.profiler as profiler\n",
    "from torch_batch_svd import svd\n",
    "import MDAnalysis as md\n",
    "from numba import jit\n",
    "from shapeGMM import _traj_tools as traj_tools"
   ]
  },
  {
   "cell_type": "code",
   "execution_count": null,
   "metadata": {},
   "outputs": [],
   "source": [
    "EigenValueThresh = 1E-10\n",
    "\n",
    "@jit(nopython=True)\n",
    "def pseudo_lpdet_inv(sigma):\n",
    "    N = sigma.shape[0]\n",
    "    e, v = np.linalg.eigh(sigma)\n",
    "    precision = np.zeros(sigma.shape,dtype=np.float64)\n",
    "    lpdet = 0.0\n",
    "    rank = 0\n",
    "    for i in range(N):\n",
    "        if (e[i] > EigenValueThresh):\n",
    "            lpdet += np.log(e[i])\n",
    "            precision += 1.0/e[i]*np.outer(v[:,i],v[:,i])\n",
    "            rank += 1\n",
    "    return lpdet, precision, rank\n",
    "\n",
    "@jit(nopython=True)\n",
    "def weight_kabsch_log_lik(x, mu, precision, lpdet):\n",
    "    # meta data\n",
    "    n_frames = x.shape[0]\n",
    "    # compute log Likelihood for all points\n",
    "    log_lik = 0.0\n",
    "    for i in range(n_frames):\n",
    "        #disp = x[i] - mu\n",
    "        for j in range(3):\n",
    "            disp = x[i,:,j] - mu[:,j]\n",
    "            log_lik += np.dot(disp,np.dot(precision,disp))\n",
    "    log_lik += 3 * n_frames * lpdet\n",
    "    log_lik /= -2*n_frames\n",
    "    return log_lik\n",
    "\n",
    "@jit(nopython=True)\n",
    "def weight_kabsch_rotate(mobile, target, weights):\n",
    "    correlation_matrix = np.dot(np.transpose(mobile), np.dot(weights, target))\n",
    "    V, S, W_tr = np.linalg.svd(correlation_matrix)\n",
    "    if np.linalg.det(V) * np.linalg.det(W_tr) < 0.0:\n",
    "        V[:, -1] = -V[:, -1]\n",
    "    rotation = np.dot(V, W_tr)\n",
    "    mobile_prime = np.dot(mobile,rotation)\n",
    "    return mobile_prime\n",
    "\n",
    "@jit(nopython=True)\n",
    "def fast_weight_kabsch_rotate(mobile, weights_target):\n",
    "    correlation_matrix = np.dot(np.transpose(mobile), weights_target)\n",
    "    V, S, W_tr = np.linalg.svd(correlation_matrix)\n",
    "    if np.linalg.det(V) * np.linalg.det(W_tr) < 0.0:\n",
    "        V[:, -1] = -V[:, -1]\n",
    "    rotation = np.dot(V, W_tr)\n",
    "    mobile_prime = np.dot(mobile,rotation)\n",
    "    return mobile_prime\n",
    "\n",
    "@jit(nopython=True)\n",
    "def covar_NxN_from_traj(disp):\n",
    "    # trajectory metadata\n",
    "    n_frames = disp.shape[0]\n",
    "    n_atoms = disp.shape[1]\n",
    "    # declare covar\n",
    "    covar = np.zeros((n_atoms,n_atoms),np.float64)\n",
    "    # loop and compute\n",
    "    for ts in range(n_frames):\n",
    "        covar += np.dot(disp[ts],disp[ts].T)\n",
    "    # symmetrize and average covar\n",
    "    covar /= 3*(n_frames-1)\n",
    "    # done, return\n",
    "    return covar\n",
    "\n",
    "@jit(nopython=True)\n",
    "def traj_iterative_average_precision_weighted_kabsch(traj_data,thresh=1E-3,max_steps=300):\n",
    "    # trajectory metadata\n",
    "    n_frames = traj_data.shape[0]\n",
    "    n_atoms = traj_data.shape[1]\n",
    "    nDim = traj_data.shape[2]\n",
    "    # Initialize with uniform weighted Kabsch\n",
    "    avg, aligned_pos = traj_iterative_average(traj_data,thresh)\n",
    "    # compute NxN covar\n",
    "    covar = covar_NxN_from_traj(aligned_pos-avg)\n",
    "    # determine precision and pseudo determinant \n",
    "    lpdet, precision, rank = pseudo_lpdet_inv(covar)\n",
    "    # compute log likelihood\n",
    "    log_lik = weight_kabsch_log_lik(aligned_pos, avg, precision, lpdet)\n",
    "    # perform iterative alignment and average to converge average\n",
    "    log_lik_diff = 10+thresh\n",
    "    step = 0\n",
    "    while log_lik_diff > thresh and step < max_steps:\n",
    "        # rezero new average\n",
    "        new_avg = np.zeros((n_atoms,nDim),dtype=np.float64)\n",
    "        # align trajectory to average and accumulate new average\n",
    "        weights_target = np.dot(precision,avg)\n",
    "        for ts in range(n_frames):\n",
    "            aligned_pos[ts] = fast_weight_kabsch_rotate(aligned_pos[ts], weights_target)\n",
    "            new_avg += aligned_pos[ts]\n",
    "        # finish average\n",
    "        new_avg /= n_frames\n",
    "        # compute new Kabsch Weights\n",
    "        covar = covar_NxN_from_traj(aligned_pos-new_avg)\n",
    "        # determine precision and pseudo determinant \n",
    "        lpdet, precision, rank = pseudo_lpdet_inv(covar)\n",
    "        # compute log likelihood\n",
    "        new_log_lik = weight_kabsch_log_lik(aligned_pos, new_avg, precision, lpdet)\n",
    "        log_lik_diff = np.abs(new_log_lik-log_lik)\n",
    "        log_lik = new_log_lik\n",
    "        avg = np.copy(new_avg)\n",
    "        step += 1\n",
    "        #print(step, log_lik)\n",
    "    return avg, aligned_pos, precision, lpdet\n",
    "\n",
    "###################################\n",
    "####. Uniform\n",
    "####################################\n",
    "\n",
    "@jit(nopython=True)\n",
    "def kabsch_rotate(mobile, target):\n",
    "    correlation_matrix = np.dot(np.transpose(mobile), target)\n",
    "    V, S, W_tr = np.linalg.svd(correlation_matrix)\n",
    "    if np.linalg.det(V) * np.linalg.det(W_tr) < 0.0:\n",
    "        V[:, -1] = -V[:, -1]\n",
    "    rotation = np.dot(V, W_tr)\n",
    "    mobile_prime = np.dot(mobile,rotation)\n",
    "    return mobile_prime\n",
    "\n",
    "@jit(nopython=True)\n",
    "def uniform_kabsch_log_lik(x, mu):\n",
    "    # meta data\n",
    "    n_frames = x.shape[0]\n",
    "    n_atoms = x.shape[1]\n",
    "    # compute log Likelihood for all points\n",
    "    log_lik = 0.0\n",
    "    sampleVar = 0.0\n",
    "    for i in range(n_frames):\n",
    "        for j in range(3):\n",
    "            disp = x[i,:,j] - mu[:,j]\n",
    "            temp = np.dot(disp,disp)\n",
    "            sampleVar += temp\n",
    "            log_lik += temp\n",
    "    # finish variance\n",
    "    sampleVar /= (n_frames-1)*3*(n_atoms-1)\n",
    "    log_lik /= sampleVar\n",
    "    log_lik +=  n_frames * 3 * (n_atoms-1) * np.log(sampleVar)\n",
    "    log_lik /= -2*n_frames\n",
    "    return log_lik\n",
    "\n",
    "# compute the average structure from trajectory data\n",
    "@jit(nopython=True)\n",
    "def traj_iterative_average(traj_data,thresh=1E-3):\n",
    "    # trajectory metadata\n",
    "    n_frames = traj_data.shape[0]\n",
    "    n_atoms = traj_data.shape[1]\n",
    "    nDim = traj_data.shape[2]\n",
    "    # create numpy array of aligned positions\n",
    "    aligned_pos = np.copy(traj_data).astype(np.float64)\n",
    "    # start be removing COG translation\n",
    "    for ts in range(n_frames):\n",
    "        mu = np.zeros(nDim)\n",
    "        for atom in range(n_atoms):\n",
    "            mu += aligned_pos[ts,atom]\n",
    "        mu /= n_atoms\n",
    "        aligned_pos[ts] -= mu\n",
    "    # Initialize average as first frame\n",
    "    avg = np.copy(aligned_pos[0]).astype(np.float64)\n",
    "    log_lik = uniform_kabsch_log_lik(aligned_pos,avg)\n",
    "    # perform iterative alignment and average to converge log likelihood\n",
    "    log_lik_diff = 10\n",
    "    count = 1\n",
    "    while log_lik_diff > thresh:\n",
    "        # rezero new average\n",
    "        new_avg = np.zeros((n_atoms,nDim),dtype=np.float64)\n",
    "        # align trajectory to average and accumulate new average\n",
    "        for ts in range(n_frames):\n",
    "            aligned_pos[ts] = kabsch_rotate(aligned_pos[ts], avg)\n",
    "            new_avg += aligned_pos[ts]\n",
    "        # finish average\n",
    "        new_avg /= n_frames\n",
    "        # compute log likelihood\n",
    "        new_log_lik = uniform_kabsch_log_lik(aligned_pos,avg)\n",
    "        #print(new_log_lik)\n",
    "        log_lik_diff = np.abs(new_log_lik-log_lik)\n",
    "        log_lik = new_log_lik\n",
    "        # copy new average\n",
    "        avg = np.copy(new_avg)\n",
    "        count += 1\n",
    "    return avg, aligned_pos"
   ]
  },
  {
   "cell_type": "code",
   "execution_count": null,
   "metadata": {},
   "outputs": [],
   "source": [
    "def torch_align_uniform(traj, dtype=torch.float64, device=torch.device(\"cuda:0\"), thresh=1e-3, verbose=False):\n",
    "    # meta data\n",
    "    n_frames = traj.shape[0]\n",
    "    n_atoms = traj.shape[1]\n",
    "\n",
    "    # pass trajectory to device\n",
    "    traj_tensor = torch.tensor(traj,dtype=dtype,device=device)\n",
    "\n",
    "    # initialize with average as the first frame (arbitrary choice)\n",
    "    avg = traj_tensor[0]\n",
    "\n",
    "    delta_log_lik = thresh+10\n",
    "    old_log_lik = 0\n",
    "    while (delta_log_lik > thresh):\n",
    "        # compute correlation matrices using batched matmul\n",
    "        c_mats = torch.matmul(avg.T,traj_tensor)\n",
    "        # perfrom SVD of c_mats using batched SVD\n",
    "        u, s, v = torch.linalg.svd(c_mats)\n",
    "        # ensure true rotation by correcting sign of determinant\n",
    "        prod_dets = torch.linalg.det(u)*torch.linalg.det(v)\n",
    "        u[:,0,-1] *= prod_dets\n",
    "        u[:,1,-1] *= prod_dets\n",
    "        u[:,2,-1] *= prod_dets\n",
    "        rot_mat = torch.transpose(torch.matmul(u,v),1,2)\n",
    "        # do rotation\n",
    "        traj_tensor = torch.matmul(traj_tensor,rot_mat)\n",
    "        # compute new average\n",
    "        new_avg = torch.mean(traj_tensor,0,False)\n",
    "        # compute log likelihood\n",
    "        disp = traj_tensor - new_avg\n",
    "        covar = torch.matmul(torch.transpose(disp,1,2),disp)\n",
    "        var = covar.diagonal(offset=0, dim1=-1, dim2=-2).sum(-1)\n",
    "        var = torch.sum(var).cpu().numpy()\n",
    "        log_lik = np.copy(var)\n",
    "        # finish variance\n",
    "        var /= (n_frames-1)*3*(n_atoms-1)\n",
    "        log_lik /= var\n",
    "        log_lik +=  n_frames * 3 * (n_atoms-1) * np.log(var)\n",
    "        log_lik /= -2*n_frames\n",
    "        delta_log_lik = abs(log_lik - old_log_lik)\n",
    "        if verbose==True:\n",
    "            print(log_lik)\n",
    "        old_log_lik = log_lik\n",
    "        avg = new_avg\n",
    "    return avg, traj_tensor\n",
    "\n",
    "def torch_pseudo_inv(sigma, dtype=torch.float32, device=torch.device(\"cuda:0\"),EigenValueThresh=1e-10):\n",
    "    N = sigma.shape[0]\n",
    "    e, v = torch.linalg.eigh(sigma)\n",
    "    pinv = torch.tensor(np.zeros(sigma.shape),dtype=dtype,device=device)\n",
    "    lpdet = 0.0\n",
    "    for i in range(N):\n",
    "        if (e[i] > EigenValueThresh):\n",
    "            lpdet += torch.log(e[i])\n",
    "            pinv += 1.0/e[i]*torch.outer(v[:,i],v[:,i])\n",
    "    return pinv, lpdet\n",
    "\n",
    "def torch_weighted_log_lik(disp, precision, lpdet):\n",
    "    # meta data\n",
    "    n_frames = disp.shape[0]\n",
    "    n_atoms = disp.shape[1]\n",
    "    # compute log Likelihood for all points\n",
    "    #log_lik = torch.trace(torch.sum(torch.matmul(torch.transpose(disp,1,2),torch.matmul(precision,disp)),0))\n",
    "    log_lik = torch.sum(torch.matmul(torch.transpose(torch.reshape(disp[:,:,0],(n_frames,n_atoms,1)),1,2),torch.matmul(precision,torch.reshape(disp[:,:,0],(n_frames,n_atoms,1)))),0)\n",
    "    log_lik += torch.sum(torch.matmul(torch.transpose(torch.reshape(disp[:,:,1],(n_frames,n_atoms,1)),1,2),torch.matmul(precision,torch.reshape(disp[:,:,1],(n_frames,n_atoms,1)))),0)\n",
    "    log_lik += torch.sum(torch.matmul(torch.transpose(torch.reshape(disp[:,:,2],(n_frames,n_atoms,1)),1,2),torch.matmul(precision,torch.reshape(disp[:,:,2],(n_frames,n_atoms,1)))),0)\n",
    "    log_lik += 3 * n_frames * lpdet\n",
    "    log_lik /= -2*n_frames\n",
    "    return log_lik\n",
    "\n",
    "def torch_align_weighted(traj, stride=1000, dtype=torch.float64, device=torch.device(\"cuda:0\"), thresh=1e-3, verbose=False):\n",
    "    # timing data\n",
    "    total_start = torch.cuda.Event(enable_timing=True)\n",
    "    total_stop = torch.cuda.Event(enable_timing=True)\n",
    "    pass_data_start = torch.cuda.Event(enable_timing=True)\n",
    "    pass_data_stop = torch.cuda.Event(enable_timing=True)\n",
    "    cmats_start = torch.cuda.Event(enable_timing=True)\n",
    "    cmats_stop = torch.cuda.Event(enable_timing=True)\n",
    "    cmats_elapsed = 0.0\n",
    "    svd_start = torch.cuda.Event(enable_timing=True)\n",
    "    svd_stop = torch.cuda.Event(enable_timing=True)\n",
    "    svd_elapsed = 0.0\n",
    "    det_start = torch.cuda.Event(enable_timing=True)\n",
    "    det_stop = torch.cuda.Event(enable_timing=True)\n",
    "    det_elapsed = 0.0\n",
    "    finish_rot_start = torch.cuda.Event(enable_timing=True)\n",
    "    finish_rot_stop = torch.cuda.Event(enable_timing=True)\n",
    "    finish_rot_elapsed = 0.0\n",
    "    rot_start = torch.cuda.Event(enable_timing=True)\n",
    "    rot_stop = torch.cuda.Event(enable_timing=True)\n",
    "    rot_elapsed = 0.0\n",
    "    covar_start = torch.cuda.Event(enable_timing=True)\n",
    "    covar_stop = torch.cuda.Event(enable_timing=True)\n",
    "    covar_elapsed = 0.0\n",
    "    pinv_start = torch.cuda.Event(enable_timing=True)\n",
    "    pinv_stop = torch.cuda.Event(enable_timing=True)\n",
    "    pinv_elapsed = 0.0\n",
    "    log_lik_start = torch.cuda.Event(enable_timing=True)\n",
    "    log_lik_stop = torch.cuda.Event(enable_timing=True)\n",
    "    log_lik_elapsed = 0.0\n",
    "    total_start.record()\n",
    "\n",
    "    \n",
    "    # meta data\n",
    "    n_frames = traj.shape[0]\n",
    "    n_atoms = traj.shape[1]\n",
    "    \n",
    "    pass_data_start.record()\n",
    "    # pass trajectory to device\n",
    "    traj_tensor = torch.tensor(traj,dtype=dtype,device=device)\n",
    "    covar_norm = torch.tensor(1/(3*(n_frames-1)),dtype=dtype,device=device)\n",
    "    pass_data_stop.record()\n",
    "    \n",
    "    # initialize with average as the first frame (arbitrary choice)\n",
    "    weighted_avg = traj_tensor[0].T\n",
    "    \n",
    "    delta_log_lik = thresh+10\n",
    "    old_log_lik = 0\n",
    "    while (delta_log_lik > thresh):\n",
    "\n",
    "        # compute correlation matrices using batched matmul\n",
    "        cmats_start.record()\n",
    "        c_mats = torch.matmul(weighted_avg,traj_tensor)\n",
    "        cmats_stop.record()\n",
    "        torch.cuda.synchronize()\n",
    "        cmats_elapsed += cmats_start.elapsed_time(cmats_stop)\n",
    "        # perfrom SVD of c_mats using batched SVD\n",
    "        svd_start.record()\n",
    "        #u, s, v = torch.linalg.svd(c_mats)\n",
    "        u, s, v = svd(c_mats)\n",
    "        svd_stop.record()\n",
    "        torch.cuda.synchronize()\n",
    "        svd_elapsed += svd_start.elapsed_time(svd_stop)\n",
    "        # ensure true rotation by correcting sign of determinant \n",
    "        det_start.record()\n",
    "        prod_dets = torch.linalg.det(u)*torch.linalg.det(v)\n",
    "        det_stop.record()\n",
    "        torch.cuda.synchronize()\n",
    "        det_elapsed += det_start.elapsed_time(det_stop)\n",
    "        #\n",
    "        finish_rot_start.record()\n",
    "        u[:,0,-1] *= prod_dets\n",
    "        u[:,1,-1] *= prod_dets\n",
    "        u[:,2,-1] *= prod_dets\n",
    "        #rot_mat = torch.transpose(torch.matmul(u,v),1,2)\n",
    "        rot_mat = torch.transpose(torch.matmul(u,torch.transpose(v,1,2)),1,2)\n",
    "        finish_rot_stop.record()\n",
    "        torch.cuda.synchronize()\n",
    "        finish_rot_elapsed += finish_rot_start.elapsed_time(finish_rot_stop)\n",
    "        # do rotation\n",
    "        rot_start.record()\n",
    "        traj_tensor = torch.matmul(traj_tensor,rot_mat)\n",
    "        rot_stop.record()\n",
    "        torch.cuda.synchronize()\n",
    "        rot_elapsed += rot_start.elapsed_time(rot_stop)\n",
    "        # compute new average\n",
    "        avg = torch.mean(traj_tensor.to(torch.float64),0,False)\n",
    "        disp = traj_tensor.to(torch.float64) - avg\n",
    "        # compute covar using strided data\n",
    "        # zero strided arrays\n",
    "        covar_start.record()\n",
    "        covar = torch.tensor(np.zeros((n_atoms,n_atoms)),dtype=torch.float64,device=device)\n",
    "        for frame in range(0,n_frames,stride):\n",
    "            covar += torch.sum(torch.matmul(disp[frame:frame+stride],torch.transpose(disp[frame:frame+stride],1,2)),0)\n",
    "        covar *= covar_norm\n",
    "        covar_stop.record()\n",
    "        torch.cuda.synchronize()\n",
    "        covar_elapsed += covar_start.elapsed_time(covar_stop)\n",
    "        # log likelihood\n",
    "        pinv_start.record()\n",
    "        precision, lpdet = torch_pseudo_inv(covar,dtype=torch.float64)\n",
    "        pinv_stop.record()\n",
    "        torch.cuda.synchronize()\n",
    "        pinv_elapsed += pinv_start.elapsed_time(pinv_stop)\n",
    "        log_lik_start.record()\n",
    "        log_lik = torch_weighted_log_lik(disp, precision, lpdet).cpu().numpy()[0][0]\n",
    "        log_lik_stop.record()\n",
    "        torch.cuda.synchronize()\n",
    "        log_lik_elapsed += log_lik_start.elapsed_time(log_lik_stop)\n",
    "        delta_log_lik = abs(log_lik - old_log_lik)\n",
    "        if verbose == True:\n",
    "            print(log_lik)\n",
    "        old_log_lik = log_lik\n",
    "        weighted_avg = torch.matmul(avg.T,precision).to(torch.float32)\n",
    "    # finish timing\n",
    "    total_stop.record()\n",
    "    torch.cuda.synchronize()\n",
    "    total_time = total_start.elapsed_time(total_stop)\n",
    "    print(\"Total elapsed time:\",np.round(total_time,3))\n",
    "    print(\"Time to send data:\", np.round(pass_data_start.elapsed_time(pass_data_stop),3), np.round(pass_data_start.elapsed_time(pass_data_stop)/total_time*100,3))\n",
    "    print(\"cmat time:\", np.round(cmats_elapsed,3), np.round(cmats_elapsed/total_time*100,3))\n",
    "    print(\"svd time:\", np.round(svd_elapsed,3), np.round(svd_elapsed/total_time*100,3))\n",
    "    print(\"det time\", np.round(det_elapsed,3), np.round(det_elapsed/total_time*100,3))\n",
    "    print(\"finish rot time:\", np.round(finish_rot_elapsed,3), np.round(finish_rot_elapsed/total_time*100,3))\n",
    "    print(\"rot time:\", np.round(rot_elapsed,3), np.round(rot_elapsed/total_time*100,3))\n",
    "    print(\"covar time:\", np.round(covar_elapsed,3), np.round(covar_elapsed/total_time*100,3))\n",
    "    print(\"pinv time\", np.round(pinv_elapsed,3), np.round(pinv_elapsed/total_time*100,3)) \n",
    "    print(\"log_lik time\", np.round(log_lik_elapsed,3), np.round(log_lik_elapsed/total_time*100,3))        \n",
    "        \n",
    "        \n",
    "    return avg, traj_tensor, precision, lpdet"
   ]
  },
  {
   "cell_type": "code",
   "execution_count": 1,
   "metadata": {},
   "outputs": [
    {
     "ename": "NameError",
     "evalue": "name 'os' is not defined",
     "output_type": "error",
     "traceback": [
      "\u001b[0;31m---------------------------------------------------------------------------\u001b[0m",
      "\u001b[0;31mNameError\u001b[0m                                 Traceback (most recent call last)",
      "\u001b[0;32m<ipython-input-1-00b0416af026>\u001b[0m in \u001b[0;36m<module>\u001b[0;34m\u001b[0m\n\u001b[1;32m      7\u001b[0m \u001b[0;31m# LOAD DATA\u001b[0m\u001b[0;34m\u001b[0m\u001b[0;34m\u001b[0m\u001b[0;34m\u001b[0m\u001b[0m\n\u001b[1;32m      8\u001b[0m \u001b[0mprmtopFileName\u001b[0m \u001b[0;34m=\u001b[0m  \u001b[0mdata_path\u001b[0m \u001b[0;34m+\u001b[0m \u001b[0;34m'pnas2012-2f4k-360K-protein.pdb'\u001b[0m\u001b[0;34m\u001b[0m\u001b[0;34m\u001b[0m\u001b[0m\n\u001b[0;32m----> 9\u001b[0;31m \u001b[0mtrajFiles\u001b[0m \u001b[0;34m=\u001b[0m \u001b[0;34m[\u001b[0m\u001b[0mdata_path\u001b[0m \u001b[0;34m+\u001b[0m \u001b[0mfiles\u001b[0m \u001b[0;32mfor\u001b[0m \u001b[0mfiles\u001b[0m \u001b[0;32min\u001b[0m \u001b[0msorted\u001b[0m\u001b[0;34m(\u001b[0m\u001b[0mos\u001b[0m\u001b[0;34m.\u001b[0m\u001b[0mlistdir\u001b[0m\u001b[0;34m(\u001b[0m\u001b[0mdata_path\u001b[0m\u001b[0;34m)\u001b[0m\u001b[0;34m)\u001b[0m \u001b[0;32mif\u001b[0m \u001b[0mfiles\u001b[0m\u001b[0;34m.\u001b[0m\u001b[0mendswith\u001b[0m\u001b[0;34m(\u001b[0m\u001b[0;34m'.dcd'\u001b[0m\u001b[0;34m)\u001b[0m\u001b[0;34m]\u001b[0m\u001b[0;34m\u001b[0m\u001b[0;34m\u001b[0m\u001b[0m\n\u001b[0m\u001b[1;32m     10\u001b[0m \u001b[0mcoord\u001b[0m \u001b[0;34m=\u001b[0m \u001b[0mmd\u001b[0m\u001b[0;34m.\u001b[0m\u001b[0mUniverse\u001b[0m\u001b[0;34m(\u001b[0m\u001b[0mprmtopFileName\u001b[0m\u001b[0;34m,\u001b[0m\u001b[0mtrajFiles\u001b[0m\u001b[0;34m)\u001b[0m\u001b[0;34m\u001b[0m\u001b[0;34m\u001b[0m\u001b[0m\n\u001b[1;32m     11\u001b[0m \u001b[0msel\u001b[0m \u001b[0;34m=\u001b[0m \u001b[0mcoord\u001b[0m\u001b[0;34m.\u001b[0m\u001b[0mselect_atoms\u001b[0m\u001b[0;34m(\u001b[0m\u001b[0mselection\u001b[0m\u001b[0;34m)\u001b[0m\u001b[0;34m\u001b[0m\u001b[0;34m\u001b[0m\u001b[0m\n",
      "\u001b[0;31mNameError\u001b[0m: name 'os' is not defined"
     ]
    }
   ],
   "source": [
    "delta = 100\n",
    "# read trajectory\n",
    "data_path = '../../DESRES-Trajectory_pnas2012-2f4k-360K-protein/pnas2012-2f4k-360K-protein/'\n",
    "selection = \"name CA and not resid 42 76\"\n",
    "#selection = \"bynum 5:204\"\n",
    "#selection = \"all\"\n",
    "# LOAD DATA\n",
    "prmtopFileName =  data_path + 'pnas2012-2f4k-360K-protein.pdb'\n",
    "trajFiles = [data_path + files for files in sorted(os.listdir(data_path)) if files.endswith('.dcd')]\n",
    "coord = md.Universe(prmtopFileName,trajFiles)\n",
    "sel = coord.select_atoms(selection)\n",
    "print(\"Number of atoms in trajectory:\", coord.atoms.n_atoms)\n",
    "print(\"Number of frames in trajectory:\",coord.trajectory.n_frames)\n",
    "print(\"Number of atoms being analyzed:\",sel.n_atoms)\n",
    "print(\"Number of frames being analyzed:\",coord.trajectory.n_frames//delta+1)\n",
    "traj = np.empty((coord.trajectory.n_frames//delta+1,sel.n_atoms,3),dtype=float)\n",
    "count = 0\n",
    "for ts in coord.trajectory[::delta]:\n",
    "    traj[count,:,:] = sel.positions#-sel.center_of_geometry()\n",
    "    count += 1"
   ]
  },
  {
   "cell_type": "code",
   "execution_count": 5,
   "metadata": {},
   "outputs": [],
   "source": [
    "device = \"cuda:0\"\n",
    "dtype = torch.float32\n",
    "n_frames = traj.shape[0]\n",
    "n_atoms = traj.shape[1]\n",
    "traj_tensor = torch.tensor(traj,device=device,dtype=dtype)"
   ]
  },
  {
   "cell_type": "code",
   "execution_count": 6,
   "metadata": {},
   "outputs": [],
   "source": [
    "weights = torch.rand(traj_tensor.shape[0],device=device,dtype=dtype)\n",
    "weights /= torch.sum(weights)"
   ]
  },
  {
   "cell_type": "code",
   "execution_count": 7,
   "metadata": {},
   "outputs": [],
   "source": [
    "weighted_traj_tensor = traj_tensor * weights.view(-1,1,1)"
   ]
  },
  {
   "cell_type": "code",
   "execution_count": 8,
   "metadata": {},
   "outputs": [],
   "source": [
    "cog = torch.mean(traj_tensor.to(torch.float64),1,False)\n",
    "for i in range(n_frames):\n",
    "    traj_tensor[i] -= cog[i]"
   ]
  },
  {
   "cell_type": "code",
   "execution_count": 11,
   "metadata": {},
   "outputs": [
    {
     "name": "stdout",
     "output_type": "stream",
     "text": [
      "-16348837.959430242\n",
      "-15531123.18149861\n",
      "-15497119.07433867\n",
      "-15492621.025134778\n",
      "-15491950.004127992\n",
      "-15491848.498388756\n",
      "-15491833.744463844\n",
      "-15491831.920243865\n",
      "-15491832.072908204\n",
      "-15491832.512128977\n",
      "-15491833.017908301\n",
      "-15491833.51090449\n",
      "-15491833.97587127\n",
      "-15491834.447599491\n",
      "-15491834.836695466\n",
      "-15491835.324206468\n",
      "-15491835.910154177\n",
      "-15491836.523675513\n",
      "-15491837.047464041\n",
      "-15491837.59126326\n",
      "-15491838.101383595\n"
     ]
    },
    {
     "ename": "KeyboardInterrupt",
     "evalue": "",
     "output_type": "error",
     "traceback": [
      "\u001b[0;31m---------------------------------------------------------------------------\u001b[0m",
      "\u001b[0;31mKeyboardInterrupt\u001b[0m                         Traceback (most recent call last)",
      "\u001b[0;32m<ipython-input-11-0dcb51917dd4>\u001b[0m in \u001b[0;36m<module>\u001b[0;34m\u001b[0m\n\u001b[1;32m      4\u001b[0m \u001b[0mweights\u001b[0m \u001b[0;34m/=\u001b[0m \u001b[0mnp\u001b[0m\u001b[0;34m.\u001b[0m\u001b[0msum\u001b[0m\u001b[0;34m(\u001b[0m\u001b[0mweights\u001b[0m\u001b[0;34m)\u001b[0m\u001b[0;34m\u001b[0m\u001b[0;34m\u001b[0m\u001b[0m\n\u001b[1;32m      5\u001b[0m \u001b[0mtraj\u001b[0m \u001b[0;34m=\u001b[0m \u001b[0mtorch_align\u001b[0m\u001b[0;34m.\u001b[0m\u001b[0mtorch_remove_center_of_geometry\u001b[0m\u001b[0;34m(\u001b[0m\u001b[0mtraj\u001b[0m\u001b[0;34m)\u001b[0m\u001b[0;34m\u001b[0m\u001b[0;34m\u001b[0m\u001b[0m\n\u001b[0;32m----> 6\u001b[0;31m \u001b[0mavg\u001b[0m\u001b[0;34m,\u001b[0m \u001b[0mtraj_aligned\u001b[0m\u001b[0;34m,\u001b[0m \u001b[0mvar\u001b[0m \u001b[0;34m=\u001b[0m \u001b[0mtorch_align\u001b[0m\u001b[0;34m.\u001b[0m\u001b[0mtorch_align_uniform_weighted\u001b[0m\u001b[0;34m(\u001b[0m\u001b[0mtraj\u001b[0m\u001b[0;34m,\u001b[0m \u001b[0mweights\u001b[0m\u001b[0;34m,\u001b[0m \u001b[0mdtype\u001b[0m\u001b[0;34m=\u001b[0m\u001b[0mtorch\u001b[0m\u001b[0;34m.\u001b[0m\u001b[0mfloat32\u001b[0m\u001b[0;34m,\u001b[0m \u001b[0mdevice\u001b[0m\u001b[0;34m=\u001b[0m\u001b[0mtorch\u001b[0m\u001b[0;34m.\u001b[0m\u001b[0mdevice\u001b[0m\u001b[0;34m(\u001b[0m\u001b[0;34m\"cuda:0\"\u001b[0m\u001b[0;34m)\u001b[0m\u001b[0;34m,\u001b[0m \u001b[0mthresh\u001b[0m\u001b[0;34m=\u001b[0m\u001b[0;36m1e-3\u001b[0m\u001b[0;34m,\u001b[0m \u001b[0mverbose\u001b[0m\u001b[0;34m=\u001b[0m\u001b[0;32mTrue\u001b[0m\u001b[0;34m)\u001b[0m\u001b[0;34m\u001b[0m\u001b[0;34m\u001b[0m\u001b[0m\n\u001b[0m",
      "\u001b[0;32m~/Documents/martin/shapeGMM_torch/pytorch/torch_align.py\u001b[0m in \u001b[0;36mtorch_align_uniform_weighted\u001b[0;34m(traj, weights, dtype, device, thresh, verbose)\u001b[0m\n\u001b[1;32m     37\u001b[0m         \u001b[0;31m# perfrom SVD of c_mats using batched SVD\u001b[0m\u001b[0;34m\u001b[0m\u001b[0;34m\u001b[0m\u001b[0;34m\u001b[0m\u001b[0m\n\u001b[1;32m     38\u001b[0m         \u001b[0;31m#u, s, v = torch.linalg.svd(c_mats)\u001b[0m\u001b[0;34m\u001b[0m\u001b[0;34m\u001b[0m\u001b[0;34m\u001b[0m\u001b[0m\n\u001b[0;32m---> 39\u001b[0;31m         \u001b[0mu\u001b[0m\u001b[0;34m,\u001b[0m \u001b[0ms\u001b[0m\u001b[0;34m,\u001b[0m \u001b[0mv\u001b[0m \u001b[0;34m=\u001b[0m \u001b[0msvd\u001b[0m\u001b[0;34m(\u001b[0m\u001b[0mc_mats\u001b[0m\u001b[0;34m)\u001b[0m\u001b[0;34m\u001b[0m\u001b[0;34m\u001b[0m\u001b[0m\n\u001b[0m\u001b[1;32m     40\u001b[0m         \u001b[0;31m# ensure true rotation by correcting sign of determinant\u001b[0m\u001b[0;34m\u001b[0m\u001b[0;34m\u001b[0m\u001b[0;34m\u001b[0m\u001b[0m\n\u001b[1;32m     41\u001b[0m         \u001b[0mprod_dets\u001b[0m \u001b[0;34m=\u001b[0m \u001b[0mtorch\u001b[0m\u001b[0;34m.\u001b[0m\u001b[0mlinalg\u001b[0m\u001b[0;34m.\u001b[0m\u001b[0mdet\u001b[0m\u001b[0;34m(\u001b[0m\u001b[0mu\u001b[0m\u001b[0;34m)\u001b[0m\u001b[0;34m*\u001b[0m\u001b[0mtorch\u001b[0m\u001b[0;34m.\u001b[0m\u001b[0mlinalg\u001b[0m\u001b[0;34m.\u001b[0m\u001b[0mdet\u001b[0m\u001b[0;34m(\u001b[0m\u001b[0mv\u001b[0m\u001b[0;34m)\u001b[0m\u001b[0;34m\u001b[0m\u001b[0;34m\u001b[0m\u001b[0m\n",
      "\u001b[0;32m~/anaconda3/lib/python3.8/site-packages/torch_batch_svd-1.1.0+9106651-py3.8-linux-x86_64.egg/torch_batch_svd/batch_svd.py\u001b[0m in \u001b[0;36mforward\u001b[0;34m(ctx, input, some, compute_uv, out)\u001b[0m\n\u001b[1;32m     36\u001b[0m             \u001b[0mU\u001b[0m\u001b[0;34m,\u001b[0m \u001b[0mS\u001b[0m\u001b[0;34m,\u001b[0m \u001b[0mV\u001b[0m \u001b[0;34m=\u001b[0m \u001b[0mout\u001b[0m\u001b[0;34m\u001b[0m\u001b[0;34m\u001b[0m\u001b[0m\n\u001b[1;32m     37\u001b[0m \u001b[0;34m\u001b[0m\u001b[0m\n\u001b[0;32m---> 38\u001b[0;31m         \u001b[0m_c\u001b[0m\u001b[0;34m.\u001b[0m\u001b[0mbatch_svd_forward\u001b[0m\u001b[0;34m(\u001b[0m\u001b[0minput\u001b[0m\u001b[0;34m,\u001b[0m \u001b[0mU\u001b[0m\u001b[0;34m,\u001b[0m \u001b[0mS\u001b[0m\u001b[0;34m,\u001b[0m \u001b[0mV\u001b[0m\u001b[0;34m,\u001b[0m \u001b[0;32mTrue\u001b[0m\u001b[0;34m,\u001b[0m \u001b[0;36m1e-7\u001b[0m\u001b[0;34m,\u001b[0m \u001b[0;36m100\u001b[0m\u001b[0;34m,\u001b[0m \u001b[0mis_double\u001b[0m\u001b[0;34m)\u001b[0m\u001b[0;34m\u001b[0m\u001b[0;34m\u001b[0m\u001b[0m\n\u001b[0m\u001b[1;32m     39\u001b[0m         \u001b[0mU\u001b[0m\u001b[0;34m.\u001b[0m\u001b[0mtranspose_\u001b[0m\u001b[0;34m(\u001b[0m\u001b[0;36m1\u001b[0m\u001b[0;34m,\u001b[0m \u001b[0;36m2\u001b[0m\u001b[0;34m)\u001b[0m\u001b[0;34m\u001b[0m\u001b[0;34m\u001b[0m\u001b[0m\n\u001b[1;32m     40\u001b[0m         \u001b[0mV\u001b[0m\u001b[0;34m.\u001b[0m\u001b[0mtranspose_\u001b[0m\u001b[0;34m(\u001b[0m\u001b[0;36m1\u001b[0m\u001b[0;34m,\u001b[0m \u001b[0;36m2\u001b[0m\u001b[0;34m)\u001b[0m\u001b[0;34m\u001b[0m\u001b[0;34m\u001b[0m\u001b[0m\n",
      "\u001b[0;31mKeyboardInterrupt\u001b[0m: "
     ]
    }
   ],
   "source": [
    "import torch_align\n",
    "weights = np.random.random(n_frames)\n",
    "weights = np.ones(n_frames)\n",
    "weights /= np.sum(weights)\n",
    "traj = torch_align.torch_remove_center_of_geometry(traj)\n",
    "avg, traj_aligned, var = torch_align.torch_align_uniform_weighted(traj, weights, dtype=torch.float32, device=torch.device(\"cuda:0\"), thresh=1e-3, verbose=True)"
   ]
  },
  {
   "cell_type": "code",
   "execution_count": 10,
   "metadata": {},
   "outputs": [
    {
     "name": "stdout",
     "output_type": "stream",
     "text": [
      "-834.1488922383661\n",
      "-807.3570153494501\n",
      "-806.242894933703\n",
      "-806.0955213000307\n",
      "-806.0735394438618\n",
      "-806.0702125201793\n",
      "-806.0697255455059\n"
     ]
    }
   ],
   "source": [
    "avg, traj_aligned, var = torch_align.torch_align_uniform(traj, dtype=torch.float32, device=torch.device(\"cuda:0\"), thresh=1e-3, verbose=True)"
   ]
  },
  {
   "cell_type": "code",
   "execution_count": 13,
   "metadata": {},
   "outputs": [
    {
     "name": "stdout",
     "output_type": "stream",
     "text": [
      "[ 6.4134599e-07 -3.3378601e-08  7.7724457e-07]\n"
     ]
    }
   ],
   "source": [
    "print(np.mean(avg,axis=0))"
   ]
  },
  {
   "cell_type": "code",
   "execution_count": 5,
   "metadata": {},
   "outputs": [
    {
     "name": "stdout",
     "output_type": "stream",
     "text": [
      "1615.269047981963\n",
      "1616.469061621868\n",
      "1617.0964701249018\n",
      "1617.6490082505707\n",
      "1618.254407529615\n",
      "1618.960147786537\n",
      "1619.7835008427235\n",
      "1620.714753004388\n",
      "1621.7119772963201\n",
      "1622.755573077188\n",
      "1623.9491541220204\n",
      "1625.5445074923439\n",
      "1627.0878908232316\n",
      "1628.0785293317797\n",
      "1628.6879712761076\n",
      "1629.1253120625206\n",
      "1629.4897005570117\n",
      "1629.8223896401505\n",
      "1630.1414698472288\n",
      "1630.4548632248109\n",
      "1630.7656392472777\n",
      "1631.0746687479846\n",
      "1631.382013539995\n",
      "1631.6881812555848\n",
      "1631.9938572829417\n",
      "1632.2996118800368\n",
      "1632.6055486717657\n",
      "1632.9110507884225\n",
      "1633.214721852412\n",
      "1633.5146075103469\n",
      "1633.8084145206226\n",
      "1634.0937829146653\n",
      "1634.3685528901647\n",
      "1634.6308439924503\n",
      "1634.879164249419\n",
      "1635.11244170654\n",
      "1635.330032765024\n",
      "1635.531503272703\n",
      "1635.7169243629646\n",
      "1635.8863803629667\n",
      "1636.0405299717108\n",
      "1636.180033947446\n",
      "1636.3057394363816\n",
      "1636.4186176780406\n",
      "1636.5196821815227\n",
      "1636.6100136994635\n",
      "Total elapsed time: 113934.992\n",
      "Time to send data: 1902.282 1.67\n",
      "cmat time: 314.023 0.276\n",
      "svd time: 4160.431 3.652\n",
      "det time 65.977 0.058\n",
      "finish rot time: 27.858 0.024\n",
      "rot time: 761.695 0.669\n",
      "covar time: 81623.325 71.64\n",
      "pinv time 3348.856 2.939\n",
      "log_lik time 20854.525 18.304\n"
     ]
    }
   ],
   "source": [
    "# 500 atoms\n",
    "avg, traj_tensor, precision, lpdet = torch_align_weighted(traj, stride=1000, dtype=torch.float32, thresh=1e-1,verbose=True)"
   ]
  },
  {
   "cell_type": "code",
   "execution_count": 5,
   "metadata": {},
   "outputs": [
    {
     "name": "stdout",
     "output_type": "stream",
     "text": [
      "[1615.26906394]\n",
      "[1616.46908269]\n",
      "[1617.09649695]\n",
      "[1617.64902408]\n",
      "[1618.25443667]\n",
      "[1618.96021042]\n",
      "[1619.7835538]\n",
      "[1620.71484196]\n",
      "[1621.71209721]\n",
      "[1622.75570667]\n",
      "[1623.94930442]\n",
      "[1625.54466987]\n",
      "[1627.08812959]\n",
      "[1628.07885124]\n",
      "[1628.68839091]\n",
      "[1629.12580391]\n",
      "[1629.49025011]\n",
      "[1629.82302365]\n",
      "[1630.14213479]\n",
      "[1630.45554422]\n",
      "[1630.7663164]\n",
      "[1631.07527688]\n",
      "[1631.38265599]\n",
      "[1631.68887914]\n",
      "[1631.99461957]\n",
      "[1632.30045507]\n",
      "[1632.60647828]\n",
      "[1632.9120592]\n",
      "[1633.21581911]\n",
      "[1633.51578853]\n",
      "[1633.80967076]\n",
      "[1634.09511871]\n",
      "[1634.36995633]\n",
      "[1634.63231864]\n",
      "[1634.88071863]\n",
      "[1635.1140647]\n",
      "[1635.33165029]\n",
      "[1635.53312969]\n",
      "[1635.71848556]\n",
      "[1635.88799002]\n",
      "[1636.04215961]\n",
      "[1636.18170571]\n",
      "[1636.3074832]\n",
      "[1636.42044101]\n",
      "[1636.52157775]\n",
      "[1636.61190464]\n",
      "Total elapsed time: 130677.414\n",
      "Time to send data: 1907.239 1.46\n",
      "cmat time: 2730.575 2.09\n",
      "svd time: 18103.582 13.854\n",
      "det time 65.231 0.05\n",
      "finish rot time: 43.592 0.033\n",
      "rot time: 1264.62 0.968\n",
      "covar time: 81896.704 62.671\n",
      "pinv time 3282.186 2.512\n",
      "log_lik time 20966.368 16.044\n"
     ]
    }
   ],
   "source": [
    "# 500 atoms\n",
    "avg, traj_tensor, precision, lpdet = torch_align_weighted(traj, stride=1000, dtype=torch.float64, thresh=1e-1,verbose=True)"
   ]
  },
  {
   "cell_type": "code",
   "execution_count": 5,
   "metadata": {},
   "outputs": [
    {
     "name": "stdout",
     "output_type": "stream",
     "text": [
      "Total elapsed time: 56076.418\n",
      "Time to send data: 1815.451 3.237\n",
      "cmat time: 1403.715 2.503\n",
      "svd time: 15490.049 27.623\n",
      "det time 53.721 0.096\n",
      "finish rot time: 36.798 0.066\n",
      "rot time: 637.885 1.138\n",
      "covar time: 26631.44 47.491\n",
      "pinv time 1558.666 2.78\n",
      "log_lik time 8239.968 14.694\n"
     ]
    }
   ],
   "source": [
    "# 300 atoms\n",
    "avg, traj_tensor, precision, lpdet = torch_align_weighted(traj, stride=1000, dtype=torch.float64, thresh=1e-1)"
   ]
  },
  {
   "cell_type": "code",
   "execution_count": 28,
   "metadata": {},
   "outputs": [
    {
     "name": "stdout",
     "output_type": "stream",
     "text": [
      "Total elapsed time: 19038.641\n",
      "Time to send data: 37.006 0.194\n",
      "cmat time: 434.964 2.285\n",
      "svd time: 4754.733 24.974\n",
      "det time 34.481 0.181\n",
      "finish rot time: 251.87 1.323\n",
      "rot time: 1244.773 6.538\n",
      "covar time: 8139.555 42.753\n",
      "pinv time 1545.31 8.117\n",
      "log_lik time 2524.889 13.262\n"
     ]
    }
   ],
   "source": [
    "avg, traj_tensor, precision, lpdet = torch_align_weighted(traj, stride=2000, dtype=torch.float64, thresh=1e-1)"
   ]
  },
  {
   "cell_type": "code",
   "execution_count": 25,
   "metadata": {},
   "outputs": [
    {
     "name": "stdout",
     "output_type": "stream",
     "text": [
      "809.5294473324997\n",
      "810.6901828632483\n",
      "811.2408730983344\n",
      "811.7088432690385\n",
      "812.2422930512154\n",
      "812.936115159636\n",
      "813.8240392197268\n",
      "814.9028413027304\n",
      "816.08243905417\n",
      "817.3270442116196\n",
      "818.8241387158067\n",
      "820.4750231593073\n",
      "821.6887257448295\n",
      "822.4901105566704\n",
      "823.0669065180793\n",
      "823.5247873013549\n",
      "823.9149732073458\n",
      "824.2652522756376\n",
      "824.5919397604284\n",
      "824.9034085138934\n",
      "825.201617757907\n",
      "825.4845406743818\n",
      "825.7496713545357\n",
      "825.9966205748309\n",
      "826.2272974312441\n",
      "826.4445131784191\n",
      "826.6506877438136\n",
      "826.8473608382009\n",
      "827.0352894854583\n",
      "827.2147357909146\n",
      "827.385718723962\n",
      "827.5481697340275\n",
      "827.7020096422756\n",
      "827.8471811043071\n",
      "827.9836633400139\n",
      "828.1114835057755\n",
      "828.2307291134119\n",
      "828.3415598131147\n",
      "828.4442145380855\n",
      "828.5390106770772\n",
      "Total elapsed time: 27120.996\n",
      "Time to send data: 37.044 0.137\n",
      "cmat time: 435.321 1.605\n",
      "svd time: 4755.049 17.533\n",
      "det time 34.573 0.127\n",
      "finish rot time: 253.015 0.933\n",
      "rot time: 1249.983 4.609\n",
      "covar time: 8156.458 30.074\n",
      "pinv time 1550.682 5.718\n",
      "log_lik time 10568.907 38.969\n"
     ]
    }
   ],
   "source": [
    "avg, traj_tensor, precision, lpdet = torch_align_weighted(traj, stride=1000, dtype=torch.float64, thresh=1e-1,verbose=True)"
   ]
  },
  {
   "cell_type": "code",
   "execution_count": 27,
   "metadata": {},
   "outputs": [
    {
     "name": "stdout",
     "output_type": "stream",
     "text": [
      "Total elapsed time: 19055.691\n",
      "Time to send data: 37.094 0.195\n",
      "cmat time: 436.186 2.289\n",
      "svd time: 4749.793 24.926\n",
      "det time 34.553 0.181\n",
      "finish rot time: 252.093 1.323\n",
      "rot time: 1244.751 6.532\n",
      "covar time: 8157.424 42.808\n",
      "pinv time 1548.319 8.125\n",
      "log_lik time 2524.414 13.248\n",
      "Total elapsed time: 19028.754\n",
      "Time to send data: 36.6 0.192\n",
      "cmat time: 428.482 2.252\n",
      "svd time: 4732.062 24.868\n",
      "det time 33.896 0.178\n",
      "finish rot time: 251.968 1.324\n",
      "rot time: 1245.18 6.544\n",
      "covar time: 8161.769 42.892\n",
      "pinv time 1543.372 8.111\n",
      "log_lik time 2524.688 13.268\n",
      "Total elapsed time: 19028.189\n",
      "Time to send data: 36.649 0.193\n",
      "cmat time: 428.461 2.252\n",
      "svd time: 4731.741 24.867\n",
      "det time 33.783 0.178\n",
      "finish rot time: 251.933 1.324\n",
      "rot time: 1245.099 6.543\n",
      "covar time: 8161.897 42.894\n",
      "pinv time 1543.338 8.111\n",
      "log_lik time 2524.633 13.268\n",
      "Total elapsed time: 19029.225\n",
      "Time to send data: 36.588 0.192\n",
      "cmat time: 428.455 2.252\n",
      "svd time: 4731.765 24.866\n",
      "det time 33.888 0.178\n",
      "finish rot time: 251.947 1.324\n",
      "rot time: 1245.023 6.543\n",
      "covar time: 8162.514 42.895\n",
      "pinv time 1543.825 8.113\n",
      "log_lik time 2524.597 13.267\n",
      "Total elapsed time: 19033.727\n",
      "Time to send data: 36.589 0.192\n",
      "cmat time: 428.666 2.252\n",
      "svd time: 4732.298 24.863\n",
      "det time 33.967 0.178\n",
      "finish rot time: 251.956 1.324\n",
      "rot time: 1245.087 6.541\n",
      "covar time: 8161.713 42.88\n",
      "pinv time 1547.692 8.131\n",
      "log_lik time 2524.95 13.266\n",
      "Total elapsed time: 19029.303\n",
      "Time to send data: 36.595 0.192\n",
      "cmat time: 428.448 2.252\n",
      "svd time: 4732.273 24.868\n",
      "det time 33.792 0.178\n",
      "finish rot time: 251.928 1.324\n",
      "rot time: 1245.009 6.543\n",
      "covar time: 8161.864 42.891\n",
      "pinv time 1544.1 8.114\n",
      "log_lik time 2524.699 13.267\n",
      "Total elapsed time: 19030.123\n",
      "Time to send data: 36.606 0.192\n",
      "cmat time: 428.452 2.251\n",
      "svd time: 4731.973 24.866\n",
      "det time 33.756 0.177\n",
      "finish rot time: 252.102 1.325\n",
      "rot time: 1245.231 6.543\n",
      "covar time: 8161.825 42.889\n",
      "pinv time 1544.793 8.118\n",
      "log_lik time 2524.593 13.266\n",
      "Total elapsed time: 19035.535\n",
      "Time to send data: 36.596 0.192\n",
      "cmat time: 428.49 2.251\n",
      "svd time: 4732.057 24.859\n",
      "det time 33.762 0.177\n",
      "finish rot time: 251.952 1.324\n",
      "rot time: 1245.016 6.54\n",
      "covar time: 8162.885 42.882\n",
      "pinv time 1549.34 8.139\n",
      "log_lik time 2524.7 13.263\n",
      "19 s ± 2.64 ms per loop (mean ± std. dev. of 7 runs, 1 loop each)\n"
     ]
    }
   ],
   "source": [
    "%timeit avg, traj_tensor, precision, lpdet = torch_align_weighted(traj, stride=1000, dtype=torch.float64, thresh=1e-1)"
   ]
  },
  {
   "cell_type": "code",
   "execution_count": null,
   "metadata": {},
   "outputs": [],
   "source": [
    "%timeit avg, aligned_pos = traj_iterative_average(traj)"
   ]
  },
  {
   "cell_type": "code",
   "execution_count": 31,
   "metadata": {},
   "outputs": [
    {
     "name": "stdout",
     "output_type": "stream",
     "text": [
      "6.23 s ± 1.52 ms per loop (mean ± std. dev. of 7 runs, 1 loop each)\n"
     ]
    }
   ],
   "source": [
    "%timeit avg, traj_tensor = torch_align_weighted(traj, dtype=torch.float64)"
   ]
  },
  {
   "cell_type": "code",
   "execution_count": 28,
   "metadata": {},
   "outputs": [
    {
     "name": "stdout",
     "output_type": "stream",
     "text": [
      "-2427.3916\n",
      "-2256.5024\n",
      "-2253.7893\n",
      "-2253.718\n",
      "-2253.7158\n",
      "-2253.7158\n"
     ]
    }
   ],
   "source": [
    "avg, traj_tensor = torch_align(traj)"
   ]
  },
  {
   "cell_type": "code",
   "execution_count": 21,
   "metadata": {},
   "outputs": [
    {
     "name": "stdout",
     "output_type": "stream",
     "text": [
      "1.74 s ± 1.86 ms per loop (mean ± std. dev. of 7 runs, 1 loop each)\n"
     ]
    }
   ],
   "source": [
    "%timeit avg, traj_tensor = torch_align(traj)"
   ]
  },
  {
   "cell_type": "code",
   "execution_count": 28,
   "metadata": {},
   "outputs": [
    {
     "name": "stdout",
     "output_type": "stream",
     "text": [
      "[[  213.33044541   431.88569363 -1170.92205131]\n",
      " [  119.93508995    35.12541585   -63.43951665]\n",
      " [-1557.06528901  -969.14976134  2794.62486927]]\n",
      "[[-0.6907233   0.11074025 -0.71458934]\n",
      " [ 0.15082826 -0.94440545 -0.29214582]\n",
      " [-0.70721436 -0.30957219  0.63562009]]\n"
     ]
    }
   ],
   "source": [
    "c_cpu = np.dot(traj[1].T,traj[0])\n",
    "print(c_cpu)\n",
    "u_cpu, s_cpu, v_cpu = np.linalg.svd(c_cpu)\n",
    "if np.linalg.det(u_cpu) * np.linalg.det(v_cpu) < 0.0:\n",
    "        #u_cpu[:, -1] = -u_cpu[:, -1]\n",
    "        u_cpu = np.dot(u_cpu,np.diag([1.0,1.0,-1.0]))\n",
    "rotation = np.dot(u_cpu, v_cpu) \n",
    "print(rotation)"
   ]
  },
  {
   "cell_type": "code",
   "execution_count": 37,
   "metadata": {},
   "outputs": [],
   "source": [
    "rot_mat_t = torch.transpose(rot_mat,1,2)"
   ]
  },
  {
   "cell_type": "code",
   "execution_count": 38,
   "metadata": {},
   "outputs": [
    {
     "name": "stdout",
     "output_type": "stream",
     "text": [
      "torch.Size([15261, 3, 3])\n"
     ]
    }
   ],
   "source": [
    "print(rot_mat_t.shape)"
   ]
  },
  {
   "cell_type": "code",
   "execution_count": 40,
   "metadata": {},
   "outputs": [
    {
     "name": "stdout",
     "output_type": "stream",
     "text": [
      "tensor([[-0.6907,  0.1107, -0.7146],\n",
      "        [ 0.1508, -0.9444, -0.2921],\n",
      "        [-0.7072, -0.3096,  0.6356]], device='cuda:0', dtype=torch.float64) tensor(1.0000, device='cuda:0', dtype=torch.float64)\n"
     ]
    }
   ],
   "source": [
    "prod_dets = torch.linalg.det(u)*torch.linalg.det(v)\n",
    "print(rot_mat_t[1],prod_dets[1])"
   ]
  },
  {
   "cell_type": "code",
   "execution_count": 66,
   "metadata": {},
   "outputs": [
    {
     "name": "stdout",
     "output_type": "stream",
     "text": [
      "[[-0.34221098  0.92233097  0.17943588]\n",
      " [-0.03270435 -0.20254182  0.97872736]\n",
      " [ 0.93905382  0.32906291  0.09947627]]\n",
      "[[-0.43267199 -0.29771531  0.85097623]\n",
      " [-0.90034254  0.19155203 -0.39075713]\n",
      " [ 0.04667185  0.93523976  0.35092495]]\n"
     ]
    }
   ],
   "source": [
    "print(u_cpu)\n",
    "print(v_cpu)"
   ]
  },
  {
   "cell_type": "code",
   "execution_count": 18,
   "metadata": {},
   "outputs": [
    {
     "name": "stdout",
     "output_type": "stream",
     "text": [
      "tensor([[-0.4327,  0.9003, -0.0467],\n",
      "        [ 0.2977,  0.1916,  0.9352],\n",
      "        [-0.8510, -0.3908,  0.3509]], device='cuda:0', dtype=torch.float64)\n"
     ]
    }
   ],
   "source": [
    "print(u[1])"
   ]
  },
  {
   "cell_type": "code",
   "execution_count": 19,
   "metadata": {},
   "outputs": [
    {
     "name": "stdout",
     "output_type": "stream",
     "text": [
      "tensor([[ 0.3422,  0.0327, -0.9391],\n",
      "        [ 0.9223, -0.2025,  0.3291],\n",
      "        [ 0.1794,  0.9787,  0.0995]], device='cuda:0', dtype=torch.float64)\n"
     ]
    }
   ],
   "source": [
    "print(v[1])"
   ]
  },
  {
   "cell_type": "code",
   "execution_count": 20,
   "metadata": {},
   "outputs": [
    {
     "name": "stdout",
     "output_type": "stream",
     "text": [
      "tensor([[ 0.6740, -0.2422,  0.6979],\n",
      "        [ 0.4464,  0.8863, -0.1235],\n",
      "        [-0.5887,  0.3948,  0.7054]], device='cuda:0', dtype=torch.float64)\n"
     ]
    }
   ],
   "source": [
    "print(torch.matmul(u[1],v[1]))"
   ]
  },
  {
   "cell_type": "markdown",
   "metadata": {},
   "source": [
    "# testing svd alternatives"
   ]
  },
  {
   "cell_type": "code",
   "execution_count": 38,
   "metadata": {},
   "outputs": [
    {
     "name": "stdout",
     "output_type": "stream",
     "text": [
      "-421.31265\n",
      "-366.2488\n",
      "-365.7177\n",
      "-365.71213\n"
     ]
    }
   ],
   "source": [
    "dtype = torch.float32\n",
    "device = \"cuda:0\"\n",
    "thresh = 1e-1\n",
    "# meta data\n",
    "n_frames = traj.shape[0]\n",
    "n_atoms = traj.shape[1]\n",
    "    \n",
    "# pass trajectory to device\n",
    "traj_tensor = torch.tensor(traj,dtype=dtype,device=device)\n",
    "\n",
    "# initialize with average as the first frame (arbitrary choice)\n",
    "avg = traj_tensor[0]\n",
    "    \n",
    "delta_log_lik = thresh+10\n",
    "old_log_lik = 0\n",
    "while (delta_log_lik > thresh):\n",
    "    # compute correlation matrices using batched matmul\n",
    "    c_mats = torch.matmul(avg.T,traj_tensor)\n",
    "    # perfrom SVD of c_mats using batched SVD\n",
    "    #u, s, v = torch.linalg.svd(c_mats)\n",
    "    u, s, v = svd(c_mats)\n",
    "    # ensure true rotation by correcting sign of determinant \n",
    "    prod_dets = torch.linalg.det(u)*torch.linalg.det(v)\n",
    "    u[:,0,-1] *= prod_dets\n",
    "    u[:,1,-1] *= prod_dets\n",
    "    u[:,2,-1] *= prod_dets\n",
    "    #rot_mat = torch.transpose(torch.matmul(u,v),1,2)\n",
    "    rot_mat = torch.transpose(torch.matmul(u,torch.transpose(v,1,2)),1,2)\n",
    "    # do rotation\n",
    "    traj_tensor = torch.matmul(traj_tensor,rot_mat)\n",
    "    # compute new average\n",
    "    avg = torch.mean(traj_tensor,0,False)\n",
    "    # compute log likelihood\n",
    "    disp = traj_tensor - avg\n",
    "    covar = torch.matmul(torch.transpose(disp,1,2),disp)\n",
    "    var = covar.diagonal(offset=0, dim1=-1, dim2=-2).sum(-1)\n",
    "    var = torch.sum(var).cpu().numpy()\n",
    "    log_lik = np.copy(var)\n",
    "    # finish variance\n",
    "    var /= (n_frames-1)*3*(n_atoms-1)\n",
    "    log_lik /= var\n",
    "    log_lik +=  n_frames * 3 * (n_atoms-1) * np.log(var)\n",
    "    log_lik /= -2*n_frames\n",
    "    delta_log_lik = abs(log_lik - old_log_lik)\n",
    "    print(log_lik)\n",
    "    old_log_lik = log_lik"
   ]
  },
  {
   "cell_type": "code",
   "execution_count": 35,
   "metadata": {},
   "outputs": [],
   "source": [
    "u_v02, s_v02, v_v02 = svd(c_mats)"
   ]
  },
  {
   "cell_type": "code",
   "execution_count": 36,
   "metadata": {},
   "outputs": [
    {
     "name": "stdout",
     "output_type": "stream",
     "text": [
      "tensor([[-0.4821,  0.8731, -0.0729],\n",
      "        [-0.2263, -0.0438,  0.9731],\n",
      "        [ 0.8464,  0.4856,  0.2187]], device='cuda:0')\n",
      "tensor([[-0.4821,  0.8731, -0.0729],\n",
      "        [-0.2263, -0.0438,  0.9731],\n",
      "        [ 0.8464,  0.4856,  0.2187]], device='cuda:0')\n"
     ]
    }
   ],
   "source": [
    "print(u[0])\n",
    "print(u_v02[0])"
   ]
  },
  {
   "cell_type": "code",
   "execution_count": 37,
   "metadata": {},
   "outputs": [
    {
     "name": "stdout",
     "output_type": "stream",
     "text": [
      "tensor([[-0.4833, -0.2262,  0.8457],\n",
      "        [ 0.8722, -0.0410,  0.4874],\n",
      "        [-0.0756,  0.9732,  0.2171]], device='cuda:0')\n",
      "tensor([[-0.4833,  0.8722, -0.0756],\n",
      "        [-0.2262, -0.0410,  0.9732],\n",
      "        [ 0.8457,  0.4874,  0.2171]], device='cuda:0')\n"
     ]
    }
   ],
   "source": [
    "print(v[0])\n",
    "print(v_v02[0])"
   ]
  },
  {
   "cell_type": "markdown",
   "metadata": {},
   "source": [
    "## pytorch"
   ]
  },
  {
   "cell_type": "code",
   "execution_count": 29,
   "metadata": {},
   "outputs": [],
   "source": [
    "def torch_align(traj, dtype=torch.float32, device=torch.device(\"cuda:0\"), thresh=1e-3):\n",
    "    # meta data\n",
    "    n_frames = traj.shape[0]\n",
    "    n_atoms = traj.shape[1]\n",
    "    \n",
    "    # pass trajectory to device\n",
    "    traj_tensor = torch.tensor(traj,dtype=dtype,device=device)\n",
    "\n",
    "    # initialize with average as the first frame (arbitrary choice)\n",
    "    avg = traj_tensor[0]\n",
    "    \n",
    "    delta_log_lik = thresh+10\n",
    "    old_log_lik = 0\n",
    "    while (delta_log_lik > thresh):\n",
    "        # compute correlation matrices using batched matmul\n",
    "        c_mats = torch.matmul(avg.T,traj_tensor)\n",
    "        # perfrom SVD of c_mats using batched SVD\n",
    "        u, s, v = torch.linalg.svd(c_mats)\n",
    "        # ensure true rotation by correcting sign of determinant \n",
    "        prod_dets = torch.linalg.det(u)*torch.linalg.det(v)\n",
    "        u[:,0,-1] *= prod_dets\n",
    "        u[:,1,-1] *= prod_dets\n",
    "        u[:,2,-1] *= prod_dets\n",
    "        rot_mat = torch.transpose(torch.matmul(u,v),1,2)\n",
    "        # do rotation\n",
    "        traj_tensor = torch.matmul(traj_tensor,rot_mat)\n",
    "        # compute new average\n",
    "        new_avg = torch.mean(traj_tensor,0,False)\n",
    "        # compute log likelihood\n",
    "        disp = traj_tensor - new_avg\n",
    "        covar = torch.matmul(torch.transpose(disp,1,2),disp)\n",
    "        var = covar.diagonal(offset=0, dim1=-1, dim2=-2).sum(-1)\n",
    "        var = torch.sum(var).cpu().numpy()\n",
    "        log_lik = np.copy(var)\n",
    "        # finish variance\n",
    "        var /= (n_frames-1)*3*(n_atoms-1)\n",
    "        log_lik /= var\n",
    "        log_lik +=  n_frames * 3 * (n_atoms-1) * np.log(var)\n",
    "        log_lik /= -2*n_frames\n",
    "        delta_log_lik = abs(log_lik - old_log_lik)\n",
    "        #print(log_lik)\n",
    "        old_log_lik = log_lik\n",
    "        avg = new_avg\n",
    "    torch.cuda.empty_cache()\n",
    "    return avg, traj_tensor"
   ]
  },
  {
   "cell_type": "code",
   "execution_count": 9,
   "metadata": {},
   "outputs": [],
   "source": [
    "def torch_pseudo_inv(sigma, dtype=torch.float32, device=torch.device(\"cuda:0\"),EigenValueThresh=1e-10):\n",
    "    N = sigma.shape[0]\n",
    "    e, v = torch.linalg.eigh(sigma)\n",
    "    pinv = torch.tensor(np.zeros(sigma.shape),dtype=dtype,device=device)\n",
    "    lpdet = 0.0\n",
    "    for i in range(N):\n",
    "        if (e[i] > EigenValueThresh):\n",
    "            lpdet += torch.log(e[i])\n",
    "            pinv += 1.0/e[i]*torch.outer(v[:,i],v[:,i])\n",
    "    return pinv, lpdet\n",
    "\n",
    "def torch_weighted_log_lik(disp, precision, lpdet):\n",
    "    # meta data\n",
    "    n_frames = disp.shape[0]\n",
    "    # compute log Likelihood for all points\n",
    "    log_lik = torch.trace(torch.sum(torch.matmul(torch.transpose(disp,1,2),torch.matmul(precision,disp)),0))\n",
    "    log_lik += 3 * n_frames * lpdet\n",
    "    log_lik /= -2*n_frames\n",
    "    return log_lik\n",
    "\n",
    "def torch_align_weighted(traj, stride=1000, dtype=torch.float32, device=torch.device(\"cuda:0\"), thresh=1e-3):\n",
    "    # meta data\n",
    "    n_frames = traj.shape[0]\n",
    "    n_atoms = traj.shape[1]\n",
    "    \n",
    "    # pass trajectory to device\n",
    "    traj_tensor = torch.tensor(traj,dtype=dtype,device=device)\n",
    "    covar_norm = torch.tensor(1/(3*(n_frames-1)),dtype=dtype,device=device)\n",
    "    \n",
    "    # initialize with average as the first frame (arbitrary choice)\n",
    "    weighted_avg = traj_tensor[0].T\n",
    "    \n",
    "    delta_log_lik = thresh+10\n",
    "    old_log_lik = 0\n",
    "    while (delta_log_lik > thresh):\n",
    "        # zero strided arrays\n",
    "        new_avg = torch.tensor(np.zeros((n_atoms,3)),dtype=dtype,device=device)\n",
    "        covar = torch.tensor(np.zeros((n_atoms,n_atoms)),dtype=dtype,device=device)\n",
    "        # compute correlation matrices using batched matmul\n",
    "        c_mats = torch.matmul(weighted_avg,traj_tensor)\n",
    "        # perfrom SVD of c_mats using batched SVD\n",
    "        u, s, v = torch.linalg.svd(c_mats)\n",
    "        # ensure true rotation by correcting sign of determinant \n",
    "        prod_dets = torch.linalg.det(u)*torch.linalg.det(v)\n",
    "        u[:,0,-1] *= prod_dets\n",
    "        u[:,1,-1] *= prod_dets\n",
    "        u[:,2,-1] *= prod_dets\n",
    "        rot_mat = torch.transpose(torch.matmul(u,v),1,2)\n",
    "        # do rotation\n",
    "        traj_tensor = torch.matmul(traj_tensor,rot_mat)\n",
    "        # compute new average\n",
    "        new_avg += torch.mean(traj_tensor,0,False)\n",
    "        # compute covar using strided data\n",
    "        disp = traj_tensor - new_avg\n",
    "        for frame in range(0,n_frames,stride):\n",
    "            covar += torch.sum(torch.matmul(disp[frame:frame+stride],torch.transpose(disp[frame:frame+stride],1,2)),0)\n",
    "        covar *= covar_norm\n",
    "        # log likelihood\n",
    "        precision, lpdet = torch_pseudo_inv(covar,dtype=dtype)\n",
    "        log_lik = torch_weighted_log_lik(disp, precision, lpdet).cpu().numpy()\n",
    "        delta_log_lik = abs(log_lik - old_log_lik)\n",
    "        #print(log_lik)\n",
    "        old_log_lik = log_lik\n",
    "        avg = new_avg\n",
    "        weighted_avg = torch.matmul(avg.T,precision)\n",
    "    torch.cuda.empty_cache()\n",
    "    return avg, traj_tensor, precision, lpdet"
   ]
  },
  {
   "cell_type": "code",
   "execution_count": 26,
   "metadata": {},
   "outputs": [
    {
     "name": "stdout",
     "output_type": "stream",
     "text": [
      "-31.94574728367148\n",
      "-30.720572987578883\n",
      "-29.888099270568546\n",
      "-28.914862407963614\n",
      "-27.72567057409137\n",
      "-26.54803221710204\n",
      "-25.654201702063702\n",
      "-24.991456978642876\n",
      "-24.4954475943521\n",
      "-24.1445170672913\n",
      "-23.90600187357529\n",
      "-23.75157807074262\n",
      "-23.647350228027406\n",
      "-23.56893211374824\n",
      "-23.50250214736581\n",
      "-23.43982919375617\n",
      "-23.37518317966918\n",
      "-23.305486802320896\n",
      "-23.228855365261232\n",
      "-23.141506407294727\n",
      "-23.036776628102132\n",
      "-22.907388960042773\n",
      "-22.74601974171156\n",
      "-22.5608779136198\n",
      "-22.363899508763144\n",
      "-22.165069786622073\n",
      "-21.96974524843784\n",
      "-21.77976107970529\n",
      "-21.592999118528272\n",
      "-21.401560472152056\n",
      "-21.203461072180914\n",
      "-20.997227046367776\n",
      "-20.780061870964737\n",
      "-20.54963810576432\n",
      "-20.30510509129724\n",
      "-20.047269161335453\n",
      "-19.78106663499441\n",
      "-19.519129383262342\n",
      "-19.280147593517402\n",
      "-19.079221852562686\n",
      "-18.921209396976884\n",
      "-18.80518507210785\n",
      "-18.723735210592245\n",
      "-18.667916319729347\n",
      "-18.63016177366346\n",
      "-18.60481963309143\n",
      "-18.58788630239982\n",
      "-18.57660189857164\n",
      "-18.569092711678515\n",
      "-18.56409800587304\n",
      "-18.56077433739349\n",
      "-18.558559728648035\n",
      "-18.55708087924264\n",
      "-18.556090361451894\n"
     ]
    }
   ],
   "source": [
    "avg, traj_tensor = torch_align_weighted(traj, dtype=torch.float64)"
   ]
  },
  {
   "cell_type": "code",
   "execution_count": 11,
   "metadata": {},
   "outputs": [],
   "source": [
    "def torch_align_timing(traj, dtype=torch.float32, thresh=1e-3):\n",
    "    total_start = torch.cuda.Event(enable_timing=True)\n",
    "    total_stop = torch.cuda.Event(enable_timing=True)\n",
    "    pass_data_start = torch.cuda.Event(enable_timing=True)\n",
    "    pass_data_stop = torch.cuda.Event(enable_timing=True)\n",
    "    cmats_start = torch.cuda.Event(enable_timing=True)\n",
    "    cmats_stop = torch.cuda.Event(enable_timing=True)\n",
    "    cmats_elapsed = 0.0\n",
    "    svd_start = torch.cuda.Event(enable_timing=True)\n",
    "    svd_stop = torch.cuda.Event(enable_timing=True)\n",
    "    svd_elapsed = 0.0\n",
    "    det_start = torch.cuda.Event(enable_timing=True)\n",
    "    det_stop = torch.cuda.Event(enable_timing=True)\n",
    "    det_elapsed = 0.0\n",
    "    finish_rot_start = torch.cuda.Event(enable_timing=True)\n",
    "    finish_rot_stop = torch.cuda.Event(enable_timing=True)\n",
    "    finish_rot_elapsed = 0.0\n",
    "    rot_start = torch.cuda.Event(enable_timing=True)\n",
    "    rot_stop = torch.cuda.Event(enable_timing=True)\n",
    "    rot_elapsed = 0.0\n",
    "    log_lik_start = torch.cuda.Event(enable_timing=True)\n",
    "    log_lik_stop = torch.cuda.Event(enable_timing=True)\n",
    "    log_lik_elapsed = 0.0\n",
    "    total_start.record()\n",
    "    # meta data\n",
    "    n_frames = traj.shape[0]\n",
    "    n_atoms = traj.shape[1]\n",
    "    \n",
    "    # define device and type\n",
    "    # device = torch.device(\"cpu\")\n",
    "    device = torch.device(\"cuda:0\") # run on GPU\n",
    "    \n",
    "    # pass trajectory to device\n",
    "    pass_data_start.record()\n",
    "    traj_tensor = torch.tensor(traj,dtype=dtype,device=device)\n",
    "    pass_data_stop.record()\n",
    "    \n",
    "    # initialize with average as the first frame (arbitrary choice)\n",
    "    avg = traj_tensor[0]\n",
    "    \n",
    "    delta_log_lik = thresh+10\n",
    "    old_log_lik = 0\n",
    "    while (delta_log_lik > thresh):\n",
    "        # compute correlation matrices using batched matmul\n",
    "        cmats_start.record()\n",
    "        c_mats = torch.matmul(avg.T,traj_tensor)\n",
    "        cmats_stop.record()\n",
    "        torch.cuda.synchronize()\n",
    "        cmats_elapsed += cmats_start.elapsed_time(cmats_stop)\n",
    "        # perfrom SVD of c_mats using batched SVD\n",
    "        svd_start.record()\n",
    "        u, s, v = torch.linalg.svd(c_mats)\n",
    "        #u, s, v = svd(c_mats)\n",
    "        svd_stop.record()\n",
    "        torch.cuda.synchronize()\n",
    "        svd_elapsed += svd_start.elapsed_time(svd_stop)\n",
    "        # determine multiplier matrices based on determinants of u and v\n",
    "        det_start.record()\n",
    "        prod_dets = torch.linalg.det(u)*torch.linalg.det(v)\n",
    "        det_stop.record()\n",
    "        torch.cuda.synchronize()\n",
    "        det_elapsed += det_start.elapsed_time(det_stop)\n",
    "        # finish rot mat\n",
    "        finish_rot_start.record()\n",
    "        u[:,0,-1] *= prod_dets\n",
    "        u[:,1,-1] *= prod_dets\n",
    "        u[:,2,-1] *= prod_dets\n",
    "        rot_mat = torch.transpose(torch.matmul(u,v),1,2)\n",
    "        finish_rot_stop.record()\n",
    "        torch.cuda.synchronize()\n",
    "        finish_rot_elapsed += finish_rot_start.elapsed_time(finish_rot_stop)\n",
    "        # do rotation\n",
    "        rot_start.record()\n",
    "        traj_tensor = torch.matmul(traj_tensor,rot_mat)\n",
    "        rot_stop.record()\n",
    "        torch.cuda.synchronize()\n",
    "        rot_elapsed += rot_start.elapsed_time(rot_stop)\n",
    "        # compute new average\n",
    "        new_avg = torch.mean(traj_tensor,0,False)\n",
    "        # compute log likelihood\n",
    "        log_lik_start.record()\n",
    "        disp = traj_tensor - new_avg\n",
    "        covar = torch.matmul(torch.transpose(disp,1,2),disp)\n",
    "        # batched trace\n",
    "        var = covar.diagonal(offset=0, dim1=-1, dim2=-2).sum(-1)\n",
    "        var = torch.sum(var).cpu().numpy()\n",
    "        log_lik_stop.record()\n",
    "        torch.cuda.synchronize()\n",
    "        log_lik_elapsed += log_lik_start.elapsed_time(log_lik_stop)\n",
    "        log_lik = np.copy(var)\n",
    "        # finish variance\n",
    "        var /= (n_frames-1)*3*(n_atoms-1)\n",
    "        log_lik /= var\n",
    "        log_lik +=  n_frames * 3 * (n_atoms-1) * np.log(var)\n",
    "        log_lik /= -2*n_frames\n",
    "        delta_log_lik = abs(log_lik - old_log_lik)\n",
    "        print(log_lik)\n",
    "        old_log_lik = log_lik\n",
    "        avg = new_avg\n",
    "    total_stop.record()\n",
    "    torch.cuda.synchronize()\n",
    "    total_time = total_start.elapsed_time(total_stop)\n",
    "    print(\"Total elapsed time:\",np.round(total_time,3))\n",
    "    print(\"Time to send data:\", np.round(pass_data_start.elapsed_time(pass_data_stop),3), np.round(pass_data_start.elapsed_time(pass_data_stop)/total_time*100,3))\n",
    "    print(\"cmat time:\", np.round(cmats_elapsed,3), np.round(cmats_elapsed/total_time*100,3))\n",
    "    print(\"svd time:\", np.round(svd_elapsed,3), np.round(svd_elapsed/total_time*100,3))\n",
    "    print(\"det time\", np.round(det_elapsed,3), np.round(det_elapsed/total_time*100,3))\n",
    "    print(\"finish rot time:\", np.round(finish_rot_elapsed,3), np.round(finish_rot_elapsed/total_time*100,3))\n",
    "    print(\"rot time:\", np.round(rot_elapsed,3), np.round(rot_elapsed/total_time*100,3))\n",
    "    print(\"log_lik time\", np.round(log_lik_elapsed,3), np.round(log_lik_elapsed/total_time*100,3))\n",
    "    torch.cuda.empty_cache()\n",
    "    return avg, traj_tensor"
   ]
  },
  {
   "cell_type": "code",
   "execution_count": 6,
   "metadata": {
    "scrolled": true
   },
   "outputs": [
    {
     "name": "stdout",
     "output_type": "stream",
     "text": [
      "-1017.97107\n",
      "-896.409\n",
      "-895.2302\n",
      "-895.21765\n",
      "-895.2174\n",
      "Total elapsed time: 1163.313\n",
      "Time to send data: 125.895 10.822\n",
      "cmat time: 23.603 2.029\n",
      "svd time: 849.246 73.002\n",
      "det time 8.412 0.723\n",
      "finish rot time: 4.975 0.428\n",
      "rot time: 58.765 5.052\n",
      "log_lik time 86.678 7.451\n"
     ]
    }
   ],
   "source": [
    "avg, traj_tensor = torch_align_timing(traj,dtype=torch.float32)"
   ]
  },
  {
   "cell_type": "code",
   "execution_count": 12,
   "metadata": {},
   "outputs": [
    {
     "name": "stdout",
     "output_type": "stream",
     "text": [
      "-1017.971000791841\n",
      "-896.4089968251327\n",
      "-895.2301694209661\n",
      "-895.2175451191622\n",
      "-895.2173761191052\n",
      "Total elapsed time: 5112.051\n",
      "Time to send data: 140.011 2.739\n",
      "cmat time: 203.255 3.976\n",
      "svd time: 4349.359 85.081\n",
      "det time 8.891 0.174\n",
      "finish rot time: 7.124 0.139\n",
      "rot time: 94.229 1.843\n",
      "log_lik time 298.575 5.841\n"
     ]
    }
   ],
   "source": [
    "avg, traj_tensor = torch_align_timing(traj,dtype=torch.float64)"
   ]
  },
  {
   "cell_type": "code",
   "execution_count": 33,
   "metadata": {},
   "outputs": [
    {
     "name": "stdout",
     "output_type": "stream",
     "text": [
      "-1017.9710007918412\n",
      "-896.4089968251325\n",
      "-895.2301694209661\n",
      "-895.2175451191622\n",
      "-895.2173761191052\n",
      "Total elapsed time: 5104.857421875\n",
      "Time to send data: 141.21116638183594 2.766\n",
      "cmat time: 203.85001754760742 3.993\n",
      "svd time: 4363.8043212890625 85.483\n",
      "det time 9.19593596458435 0.18\n",
      "finish rot time: 13.390719890594482 0.262\n",
      "rot time: 94.53641510009766 1.852\n",
      "log_lik time 267.14771270751953 5.233\n"
     ]
    }
   ],
   "source": [
    "avg, traj_tensor = torch_align_timing(traj,dtype=torch.float64)"
   ]
  },
  {
   "cell_type": "code",
   "execution_count": 28,
   "metadata": {},
   "outputs": [
    {
     "data": {
      "text/plain": [
       "'NVIDIA GeForce RTX 2080 SUPER'"
      ]
     },
     "execution_count": 28,
     "metadata": {},
     "output_type": "execute_result"
    }
   ],
   "source": [
    "torch.cuda.get_device_name()"
   ]
  },
  {
   "cell_type": "code",
   "execution_count": 6,
   "metadata": {},
   "outputs": [],
   "source": [
    "traj_tensor = torch.tensor(traj,device=device)"
   ]
  },
  {
   "cell_type": "code",
   "execution_count": 7,
   "metadata": {},
   "outputs": [],
   "source": [
    "n_frames = traj.shape[0]"
   ]
  },
  {
   "cell_type": "code",
   "execution_count": 8,
   "metadata": {},
   "outputs": [],
   "source": [
    "diag = torch.tensor(np.ones((n_frames,3)),dtype=dtype,device=device)"
   ]
  },
  {
   "cell_type": "code",
   "execution_count": 9,
   "metadata": {},
   "outputs": [
    {
     "name": "stdout",
     "output_type": "stream",
     "text": [
      "torch.Size([15261, 3])\n"
     ]
    }
   ],
   "source": [
    "print(diag.shape)"
   ]
  },
  {
   "cell_type": "code",
   "execution_count": 10,
   "metadata": {},
   "outputs": [
    {
     "name": "stdout",
     "output_type": "stream",
     "text": [
      "torch.Size([15261, 33, 3])\n"
     ]
    }
   ],
   "source": [
    "print(traj_tensor.shape)"
   ]
  },
  {
   "cell_type": "code",
   "execution_count": 57,
   "metadata": {},
   "outputs": [
    {
     "name": "stdout",
     "output_type": "stream",
     "text": [
      "torch.Size([15261, 3, 3])\n"
     ]
    }
   ],
   "source": [
    "c_mats = torch.matmul(traj_tensor[0].T,traj_tensor)\n",
    "print(c_mats.shape)"
   ]
  },
  {
   "cell_type": "code",
   "execution_count": 58,
   "metadata": {},
   "outputs": [
    {
     "name": "stdout",
     "output_type": "stream",
     "text": [
      "tensor([[  213.3304,   119.9351, -1557.0653],\n",
      "        [  431.8857,    35.1254,  -969.1498],\n",
      "        [-1170.9221,   -63.4395,  2794.6249]], device='cuda:0',\n",
      "       dtype=torch.float64)\n"
     ]
    }
   ],
   "source": [
    "print(c_mats[1])"
   ]
  },
  {
   "cell_type": "code",
   "execution_count": 59,
   "metadata": {},
   "outputs": [
    {
     "name": "stdout",
     "output_type": "stream",
     "text": [
      "torch.Size([15261, 3, 3])\n"
     ]
    }
   ],
   "source": [
    "u, s, v = torch.linalg.svd(c_mats)\n",
    "print(u.shape)"
   ]
  },
  {
   "cell_type": "code",
   "execution_count": 72,
   "metadata": {},
   "outputs": [
    {
     "name": "stdout",
     "output_type": "stream",
     "text": [
      "tensor([[-0.6740,  0.2422, -0.6979],\n",
      "        [ 0.4464,  0.8863, -0.1235],\n",
      "        [-0.5887,  0.3948,  0.7054]], device='cuda:0', dtype=torch.float64)\n"
     ]
    }
   ],
   "source": [
    "rot_mat = torch.matmul(u,v)\n",
    "print(rot_mat[1])"
   ]
  },
  {
   "cell_type": "code",
   "execution_count": 73,
   "metadata": {},
   "outputs": [],
   "source": [
    "det_u = torch.linalg.det(u)\n",
    "det_v = torch.linalg.det(v)"
   ]
  },
  {
   "cell_type": "code",
   "execution_count": 74,
   "metadata": {},
   "outputs": [
    {
     "name": "stdout",
     "output_type": "stream",
     "text": [
      "tensor(-1.0000, device='cuda:0', dtype=torch.float64)\n"
     ]
    }
   ],
   "source": [
    "print(prod_dets[1])"
   ]
  },
  {
   "cell_type": "code",
   "execution_count": 78,
   "metadata": {},
   "outputs": [],
   "source": [
    "prod_dets = det_u*det_v\n",
    "diag[:,0] = prod_dets\n",
    "mult = torch.diag_embed(diag)\n",
    "u = torch.matmul(mult,u)\n",
    "rot_mat = torch.matmul(u,v)"
   ]
  },
  {
   "cell_type": "code",
   "execution_count": 79,
   "metadata": {},
   "outputs": [
    {
     "name": "stdout",
     "output_type": "stream",
     "text": [
      "tensor([[ 0.6740, -0.2422,  0.6979],\n",
      "        [ 0.4464,  0.8863, -0.1235],\n",
      "        [ 0.5887, -0.3948, -0.7054]], device='cuda:0', dtype=torch.float64)\n"
     ]
    }
   ],
   "source": [
    "print(rot_mat[1])"
   ]
  },
  {
   "cell_type": "code",
   "execution_count": null,
   "metadata": {},
   "outputs": [],
   "source": [
    "traj_tensor = torch.matmul()"
   ]
  },
  {
   "cell_type": "code",
   "execution_count": 48,
   "metadata": {},
   "outputs": [],
   "source": [
    "def torch_max_likelihood_align_uniform(traj_tensor,device,thresh=1E-3,dtype=torch.float64):\n",
    "    # trajectory metadata\n",
    "    n_frames = traj_tensor.shape[0]\n",
    "    n_atoms = traj_tensor.shape[1]\n",
    "    # start be removing COG translation from every frame\n",
    "    for ts in range(n_frames):\n",
    "        mu = torch.tensor([0,0,0],device=device,dtype=dtype)\n",
    "        for atom in range(n_atoms):\n",
    "            mu += traj_tensor[ts,atom]\n",
    "        mu /= n_atoms\n",
    "        traj_tensor[ts] -= mu\n",
    "    # Initialize average as first frame\n",
    "    avg = torch.clone(traj_tensor[0])\n",
    "    log_lik = torch_uniform_kabsch_log_lik(traj_tensor,avg)\n",
    "    # perform iterative alignment and average to converge log likelihood\n",
    "    log_lik_diff = 10\n",
    "    count = 1\n",
    "    while log_lik_diff > thresh:\n",
    "        # rezero new average\n",
    "        new_avg = torch.zeros_like(avg,device=device,dtype=dtype)\n",
    "        # align trajectory to average and accumulate new average\n",
    "        for ts in range(n_frames):\n",
    "            traj_tensor[ts] = torch_kabsch_rotate(traj_tensor[ts], avg)\n",
    "            new_avg += traj_tensor[ts]\n",
    "        # finish average\n",
    "        new_avg /= n_frames\n",
    "        # compute log likelihood\n",
    "        new_log_lik = torch_uniform_kabsch_log_lik(traj_tensor,avg)\n",
    "        log_lik_diff = torch.abs(new_log_lik-log_lik)\n",
    "        log_lik = new_log_lik\n",
    "        # copy new average\n",
    "        avg = torch.clone(new_avg)\n",
    "        count += 1\n",
    "    return avg\n",
    "\n",
    "def torch_kabsch_rotate(mobile, target):\n",
    "    correlation_matrix = torch.matmul(torch.transpose(mobile,0,1), target)\n",
    "    V, S, W_tr = torch.linalg.svd(correlation_matrix)\n",
    "    if torch.linalg.det(V) * torch.linalg.det(W_tr) < 0.0:\n",
    "        V[:, -1] = -V[:, -1]\n",
    "    rotation = torch.matmul(V, W_tr)\n",
    "    mobile_prime = torch.matmul(mobile,rotation)\n",
    "    return mobile_prime\n",
    "\n",
    "\n",
    "def torch_uniform_kabsch_log_lik(x, mu):\n",
    "    # meta data\n",
    "    n_frames = x.shape[0]\n",
    "    n_atoms = x.shape[1]\n",
    "    # compute log Likelihood for all points\n",
    "    log_lik = 0.0\n",
    "    sampleVar = 0.0\n",
    "    for i in range(n_frames):\n",
    "        for j in range(3):\n",
    "            disp = x[i,:,j] - mu[:,j]\n",
    "            temp = torch.matmul(disp,disp)\n",
    "            sampleVar += temp\n",
    "            log_lik += temp\n",
    "    # finish variance\n",
    "    sampleVar /= (n_frames-1)*3*(n_atoms-1)\n",
    "    log_lik /= sampleVar\n",
    "    log_lik +=  n_frames * 3 * (n_atoms-1) * torch.log(sampleVar)\n",
    "    log_lik *= -0.5\n",
    "    return log_lik"
   ]
  },
  {
   "cell_type": "code",
   "execution_count": 49,
   "metadata": {},
   "outputs": [],
   "source": [
    "torch_avg = torch_max_likelihood_align_uniform(traj_tensor,device)"
   ]
  },
  {
   "cell_type": "code",
   "execution_count": 33,
   "metadata": {},
   "outputs": [
    {
     "name": "stdout",
     "output_type": "stream",
     "text": [
      "12.6 s ± 269 ms per loop (mean ± std. dev. of 7 runs, 1 loop each)\n"
     ]
    }
   ],
   "source": [
    "# CPU\n",
    "%timeit torch_avg = torch_max_likelihood_align_uniform(traj_tensor)"
   ]
  },
  {
   "cell_type": "code",
   "execution_count": 53,
   "metadata": {},
   "outputs": [
    {
     "name": "stdout",
     "output_type": "stream",
     "text": [
      "24.1 s ± 180 ms per loop (mean ± std. dev. of 7 runs, 1 loop each)\n"
     ]
    }
   ],
   "source": [
    "# GPU\n",
    "%timeit torch_avg = torch_max_likelihood_align_uniform(traj_tensor,device)"
   ]
  },
  {
   "cell_type": "code",
   "execution_count": 55,
   "metadata": {},
   "outputs": [
    {
     "name": "stdout",
     "output_type": "stream",
     "text": [
      "tensor([[-8.8136e+00,  2.7761e+00,  5.6701e+00],\n",
      "        [-8.6363e+00,  1.6984e+00,  4.5916e+00],\n",
      "        [-9.8360e+00,  1.3530e+00,  2.9926e+00],\n",
      "        [-8.3056e+00,  1.7471e+00,  1.6843e+00],\n",
      "        [-6.7849e+00, -6.3208e-03,  1.9070e+00],\n",
      "        [-7.7955e+00, -1.8435e+00,  1.3085e+00],\n",
      "        [-7.7394e+00, -1.6182e+00, -8.2500e-01],\n",
      "        [-5.1752e+00, -1.9200e+00, -1.1867e+00],\n",
      "        [-3.9311e+00, -3.7921e+00,  4.5359e-01],\n",
      "        [-4.3799e+00, -5.1262e+00,  2.3399e+00],\n",
      "        [-3.6644e+00, -3.5878e+00,  4.1838e+00],\n",
      "        [-2.7841e+00, -2.0271e+00,  5.6479e+00],\n",
      "        [-1.2592e+00, -5.7948e-01,  6.6520e+00],\n",
      "        [ 1.1829e-01, -2.0474e+00,  7.9320e+00],\n",
      "        [ 1.2045e+00, -2.8577e+00,  5.9995e+00],\n",
      "        [ 2.3072e+00, -8.1139e-01,  4.9222e+00],\n",
      "        [ 3.7223e+00, -2.7553e-01,  6.7896e+00],\n",
      "        [ 5.1303e+00, -1.9867e+00,  6.2959e+00],\n",
      "        [ 6.3809e+00, -8.9586e-01,  3.9409e+00],\n",
      "        [ 7.7158e+00,  5.5063e-01,  2.0799e+00],\n",
      "        [ 7.9290e+00,  2.1845e+00, -1.3217e-01],\n",
      "        [ 8.0965e+00,  8.1826e-01, -2.0147e+00],\n",
      "        [ 6.0206e+00, -9.5911e-02, -1.5174e+00],\n",
      "        [ 4.9310e+00,  1.7635e+00, -2.1696e+00],\n",
      "        [ 5.7097e+00,  2.2250e+00, -4.8256e+00],\n",
      "        [ 4.9815e+00,  3.0352e-01, -5.7137e+00],\n",
      "        [ 2.8524e+00,  5.6268e-01, -5.3013e+00],\n",
      "        [ 2.7844e+00,  2.4483e+00, -6.9441e+00],\n",
      "        [ 3.5706e+00,  1.6928e+00, -9.2420e+00],\n",
      "        [ 2.2362e+00,  1.9315e-01, -9.3894e+00],\n",
      "        [ 7.2862e-01,  1.5154e+00, -9.1942e+00],\n",
      "        [ 1.0251e+00,  3.3225e+00, -9.3027e+00],\n",
      "        [ 1.6602e+00,  4.3165e+00, -7.6325e+00]], device='cuda:0',\n",
      "       dtype=torch.float64)\n"
     ]
    }
   ],
   "source": [
    "print(torch_avg)"
   ]
  },
  {
   "cell_type": "code",
   "execution_count": null,
   "metadata": {},
   "outputs": [],
   "source": []
  }
 ],
 "metadata": {
  "kernelspec": {
   "display_name": "Python 3",
   "language": "python",
   "name": "python3"
  },
  "language_info": {
   "codemirror_mode": {
    "name": "ipython",
    "version": 3
   },
   "file_extension": ".py",
   "mimetype": "text/x-python",
   "name": "python",
   "nbconvert_exporter": "python",
   "pygments_lexer": "ipython3",
   "version": "3.8.5"
  }
 },
 "nbformat": 4,
 "nbformat_minor": 4
}
